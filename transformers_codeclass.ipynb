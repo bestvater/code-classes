{
 "cells": [
  {
   "cell_type": "markdown",
   "id": "07303cb5-fe5f-4aad-9a13-9ddeb88437d2",
   "metadata": {},
   "source": [
    "# NLP Transfer Learning with 🤗 Transformers\n",
    "\n",
    "#### Data Labs Code Class Tues., 10/5\n",
    "\n",
    "#### Sam Bestvater | Computational Social Scientist\n",
    "\n",
    "In this notebook, I introduce and demonstrate the Hugging Face (🤗) `Transformers` package, a Python package for transfer learning in neural NLP that is quickly becoming one of the essential tools in the field. \n",
    "\n",
    "This notebook draws heavily from the documentation for the package. For more info, see:\n",
    "- [huggingface.co/transformers](https://huggingface.co/transformers)\n",
    "- [huggingface.co/course](https://huggingface.co/course)"
   ]
  },
  {
   "cell_type": "markdown",
   "id": "b21d0743-949b-40eb-af3f-e1e71e57fbb6",
   "metadata": {},
   "source": [
    "## 0. Setup\n",
    "(what packages & dependencies to install if you want to follow along with the notebook)"
   ]
  },
  {
   "cell_type": "code",
   "execution_count": 1,
   "id": "f26fb4b2-0205-4fd2-8b1c-c52d47aaad0d",
   "metadata": {},
   "outputs": [],
   "source": [
    "#!pip install transformers --user\n",
    "#!pip install datasets --user\n",
    "#!pip install sentencepiece --user\n",
    "#!pip install torch==1.9.1+cpu torchvision==0.10.1+cpu torchaudio==0.9.1 -f https://download.pytorch.org/whl/torch_stable.html --user\n",
    "#!pip install torchinfo --user"
   ]
  },
  {
   "cell_type": "markdown",
   "id": "7df62cfd-2b19-460e-a4f1-3779e4b5e53b",
   "metadata": {},
   "source": [
    "## 1. What is a Transformer model, and how does it work?\n",
    "\n",
    "Let's establish some other definitions first:\n",
    "- neural networks: what if instead of using just one logistic regression, we chained a bunch of them together in multiple layers? Turns out that gives us a really flexible model for working with super high dimensional data types like text or images. [(3Blue1Brown has a great series on YouTube if you want to actually understand how neural nets work in any detail.)](https://www.youtube.com/watch?v=aircAruvnKk)\n",
    "- model architecture: the configuration of units and connections that define a specific neural network (i.e. the overall shape of the model).\n",
    "- model checkpoint: the parameters (weights and biases) that the model learns through training. (i.e. the trained model)\n",
    "- transfer learning: taking a model checkpoint trained on one task or dataset and using it for another task or dataset (either as-is, or modified to adapt it to that task).\n",
    "- language modeling: statistically modeling how words in natural language relate to each other, often for next-word or missing-word prediction (like predictive keyboards on smartphones). It turns out that language models are good to use for transfer learning, because the things they learn about the underlying interdependencies of language are widely useful for a variety of NLP tasks. \n",
    "\n",
    "A *Transformer* is a kind of neural network architecture designed for language modeling, first introduced by researchers at Google in 2017 [(Vaswani et al. 2017)](https://proceedings.neurips.cc/paper/2017/file/3f5ee243547dee91fbd053c1c4a845aa-Paper.pdf). The big innovation of the transformer architecture is that it is much more computationally efficient than the other types of neural network architectures used for language modeling up to that point (mostly RNNs and LSTMs). The efficiency of the architecture meant that researchers could train much larger models on much larger quantities of data. Another research team at Google followed up the original Transformer paper by releasing a model called BERT, and open-sourcing the model checkpoints for other researchers to use [(Devlin et al. 2018)](https://arxiv.org/pdf/1810.04805.pdf&usg=ALkJrhhzxlCL6yTht2BRmH9atgvKFxHsxQ). The BERT model has 336M trainable parameters and recognizes a vocabulary of over 30,000 English terms. It was trained on two massive text corpora, the WikiText-103 corpus (which is basically all of wikipedia) and the BookCorpus. \n",
    "\n",
    "The publication of BERT launched a new era in NLP research, as these huge language models facilitated much more effective transfer learning than anything that had come before. Most tasks in NLP can be improved through the use of BERT or another transformer model like it.\n",
    "\n"
   ]
  },
  {
   "cell_type": "markdown",
   "id": "0922e563-f3ca-4bd7-a8f6-65daaa37a4c9",
   "metadata": {},
   "source": [
    "## 2. What kinds of things can you do with Transformers?\n",
    "\n",
    "A bunch of things!\n",
    "\n",
    "- Sequence classification: (sentiment analysis, spam detection, grammar checking, logical entailment, etc.)\n",
    "- Token classification: (POS-tagging, named entity recognition, masked token prediction, etc.)\n",
    "- Text generation: (GPT stuff & things)\n",
    "- Sequence transformation: (document summarization, document translation, etc.)\n",
    "- Text representation: (producing contextual embeddings, representing multilingual texts, etc.)"
   ]
  },
  {
   "cell_type": "markdown",
   "id": "e7112c77-d7dc-408b-9ee6-d69c9922c367",
   "metadata": {},
   "source": [
    "## 3. What is 🤗?\n",
    "\n",
    "🤗 (Hugging Face) exists in the form that it does today as a result of competition between the two most common deep learning frameworks for Python, `PyTorch` and `TensorFlow`. Researchers at Google first introduced the Transformer architecture [(Vaswani et al. 2017)](https://proceedings.neurips.cc/paper/2017/file/3f5ee243547dee91fbd053c1c4a845aa-Paper.pdf) and also developed BERT, one of the early general-purpose Transformer language models [(Devlin et al. 2018)](https://arxiv.org/pdf/1810.04805.pdf&usg=ALkJrhhzxlCL6yTht2BRmH9atgvKFxHsxQ). Google also owns TensorFlow, so when the BERT paper was published in 2018, the research team open sourced the pre-trained models as TensorFlow objects (which are all still available on their [GitHub](https://github.com/google-research/bert), BTW). The developers at Hugging Face wanted to use BERT models in their research, but primarily worked in PyTorch, so they converted the models and released a python package called `pytorch-pretrained-bert` that was simply a set of commands for downloading the converted BERT models as PyTorch objects. This quickly became hugely popular, and the de-facto default implementation for other researchers who wanted to use BERT models with PyTorch (which was a lot of people). As more pre-trained transformers were published, Hugging Face started hosting those as well, and began developing a general set of tools to work with these models. Around this time they also changed the name of their python package to the more general `transformers`.\n",
    "\n",
    "Today, Hugging Face maintains several python packages.\n",
    "\n",
    "- `transformers` provides functions for downloading and implementing Transformer models for NLP tasks. All the tools now work in both PyTorch and TensorFlow, and many models are now available for both frameworks as well. \n",
    "- `huggingface_hub` integrates with the online repository of models that Hugging Face hosts ([huggingface.co/models](https://huggingface.co/models)) and allows users to upload their own fine-tuned transformers. There are currently 17,196 model checkpoints hosted on the Hugging Face Hub.\n",
    "- `datasets` provides easy access to an online library of major public datasets for NLP, and also provides an efficient data format for use with `transformers` functions and models."
   ]
  },
  {
   "cell_type": "markdown",
   "id": "9db6f923-8a84-452f-a5c6-0c49759052e8",
   "metadata": {},
   "source": [
    "## 4. Cool! Let's see some examples!"
   ]
  },
  {
   "cell_type": "markdown",
   "id": "9f68b058-9896-4e4a-a7a0-148d22e3bd2b",
   "metadata": {},
   "source": [
    "### 4.1 At a high level: using the Pipeline API\n",
    "\n",
    "The `Pipeline` API abstracts away most of the technical detail of the underlying models, allowing us to focus on using pre-trained models for specific, well-defined tasks."
   ]
  },
  {
   "cell_type": "code",
   "execution_count": 2,
   "id": "702e168d-8d34-47a8-b7b6-3dd0e9c7d667",
   "metadata": {},
   "outputs": [
    {
     "name": "stderr",
     "output_type": "stream",
     "text": [
      "2021-10-01 20:43:17.242322: W tensorflow/stream_executor/platform/default/dso_loader.cc:64] Could not load dynamic library 'libcudart.so.11.0'; dlerror: libcudart.so.11.0: cannot open shared object file: No such file or directory\n",
      "2021-10-01 20:43:17.242353: I tensorflow/stream_executor/cuda/cudart_stub.cc:29] Ignore above cudart dlerror if you do not have a GPU set up on your machine.\n"
     ]
    },
    {
     "name": "stdout",
     "output_type": "stream",
     "text": [
      "CPU only\n"
     ]
    }
   ],
   "source": [
    "from transformers import pipeline\n",
    "\n",
    "import pandas as pd\n",
    "import numpy as np\n",
    "\n",
    "import torch\n",
    "\n",
    "print('CUDA enabled') if torch.cuda.is_available() else print('CPU only')"
   ]
  },
  {
   "cell_type": "markdown",
   "id": "ecb4f063-4ed8-4e4a-96ff-1dac8ddbd609",
   "metadata": {},
   "source": [
    "### Sentiment Analysis\n",
    "(asking an encoder model to determine if the overall tone of a text is positive or negative)"
   ]
  },
  {
   "cell_type": "code",
   "execution_count": 3,
   "id": "92219660-a51e-40e3-8c6d-f5edacb3922a",
   "metadata": {},
   "outputs": [
    {
     "name": "stderr",
     "output_type": "stream",
     "text": [
      "No model was supplied, defaulted to distilbert-base-uncased-finetuned-sst-2-english (https://huggingface.co/distilbert-base-uncased-finetuned-sst-2-english)\n"
     ]
    },
    {
     "data": {
      "text/plain": [
       "[{'label': 'POSITIVE', 'score': 0.9998788833618164},\n",
       " {'label': 'NEGATIVE', 'score': 0.9997871518135071}]"
      ]
     },
     "execution_count": 3,
     "metadata": {},
     "output_type": "execute_result"
    }
   ],
   "source": [
    "classifier = pipeline(\"sentiment-analysis\")\n",
    "classifier(\n",
    "    [\"Everyone on Data Labs is amazing and brilliant!\", \n",
    "    \"This code class is so boring, I wish Sam would stop talking.\"],\n",
    ")"
   ]
  },
  {
   "cell_type": "markdown",
   "id": "f3418317-dc46-4281-9cdc-ca33fcf57600",
   "metadata": {},
   "source": [
    "### Zero-shot classification\n",
    "(asking an encoder model to classify a text from a list of labels it's never seen before)"
   ]
  },
  {
   "cell_type": "code",
   "execution_count": 4,
   "id": "0b86ca20-1f33-43d4-9700-6a5ee15b4876",
   "metadata": {},
   "outputs": [
    {
     "name": "stderr",
     "output_type": "stream",
     "text": [
      "No model was supplied, defaulted to facebook/bart-large-mnli (https://huggingface.co/facebook/bart-large-mnli)\n"
     ]
    },
    {
     "data": {
      "text/plain": [
       "[{'sequence': 'The 2020 election featured dramatic increases in lawmaker posts and audience engagement',\n",
       "  'labels': ['politics', 'business', 'health', 'education'],\n",
       "  'scores': [0.950331449508667,\n",
       "   0.026905572041869164,\n",
       "   0.012079858221113682,\n",
       "   0.010683099739253521]},\n",
       " {'sequence': 'Majority in U.S. Says Public Health Benefits of COVID-19 Restrictions Worth the Costs',\n",
       "  'labels': ['health', 'business', 'politics', 'education'],\n",
       "  'scores': [0.9772828221321106,\n",
       "   0.011761322617530823,\n",
       "   0.008106389082968235,\n",
       "   0.00284951226785779]}]"
      ]
     },
     "execution_count": 4,
     "metadata": {},
     "output_type": "execute_result"
    }
   ],
   "source": [
    "classifier = pipeline(\"zero-shot-classification\")\n",
    "classifier(\n",
    "    [\"The 2020 election featured dramatic increases in lawmaker posts and audience engagement\",\n",
    "    \"Majority in U.S. Says Public Health Benefits of COVID-19 Restrictions Worth the Costs\"],\n",
    "    candidate_labels=[\"education\", \"politics\", \"business\", \"health\"],\n",
    ")"
   ]
  },
  {
   "cell_type": "markdown",
   "id": "dc8c44f5-204c-4afd-965e-aea56285ce12",
   "metadata": {},
   "source": [
    "### Text generation\n",
    "(asking a decoder model to produce more text from a given input)"
   ]
  },
  {
   "cell_type": "code",
   "execution_count": 5,
   "id": "9899a656-2149-47ac-a8e5-f308a7ee7dc5",
   "metadata": {},
   "outputs": [
    {
     "name": "stderr",
     "output_type": "stream",
     "text": [
      "No model was supplied, defaulted to gpt2 (https://huggingface.co/gpt2)\n",
      "Using pad_token, but it is not set yet.\n",
      "Setting `pad_token_id` to `eos_token_id`:50256 for open-end generation.\n"
     ]
    },
    {
     "data": {
      "text/plain": [
       "[{'generated_text': 'In a hole in the ground, there lived a Hobbit. Perhaps it was a bad night.\\n\\nIn his old days, J.R.R. Tolkien had a very large collection of mummies and odes to his favorite novels, from'},\n",
       " {'generated_text': \"In a hole in the ground, there lived a Hobbit. Perhaps he was lost, and the story told in a book of his in the Hobbit's place has come to be known as the Great Book of Hobbiton. So if you want to know\"}]"
      ]
     },
     "execution_count": 5,
     "metadata": {},
     "output_type": "execute_result"
    }
   ],
   "source": [
    "generator = pipeline(\"text-generation\")\n",
    "generator(\"In a hole in the ground, there lived a Hobbit.\",\n",
    "         num_return_sequences = 2, # how many examples you'd like the model to produce\n",
    "         max_length = 50) # how long these should be"
   ]
  },
  {
   "cell_type": "markdown",
   "id": "0a8789c2-af97-481a-8747-4c0340185e79",
   "metadata": {},
   "source": [
    "### Summarization\n",
    "(asking an encoder-decoder model to produce a shorter version of a given input)"
   ]
  },
  {
   "cell_type": "code",
   "execution_count": 6,
   "id": "4d8b6536-f1ff-4687-82c0-1dbc9839aeb7",
   "metadata": {},
   "outputs": [
    {
     "name": "stderr",
     "output_type": "stream",
     "text": [
      "No model was supplied, defaulted to sshleifer/distilbart-cnn-12-6 (https://huggingface.co/sshleifer/distilbart-cnn-12-6)\n"
     ]
    },
    {
     "data": {
      "text/plain": [
       "[{'summary_text': ' Pew Research Center captured the Twitter handles of every athlete who listed a profile on the official Team USA page and looked at tweets from the broader Twitter audience . From July 21 through Aug. 9, 2021 – the Games were held July 23 to Aug. 8 – more than 900,000 different Twitter accounts directly mentioned the handles of U.S. Olympians in more than 2.1 million tweets .'}]"
      ]
     },
     "execution_count": 6,
     "metadata": {},
     "output_type": "execute_result"
    }
   ],
   "source": [
    "summarizer = pipeline(\"summarization\")\n",
    "summarizer(\"\"\"\n",
    "            Although gymnast Simone Biles’ medal count fell slightly short of the \n",
    "            sports world’s lofty expectations in the Tokyo 2020 Olympic Games, \n",
    "            she dominated among U.S. Olympians in the number of times her handle, \n",
    "            @Simone_Biles, was mentioned on Twitter.\n",
    "\n",
    "            Pew Research Center captured the Twitter handles of every athlete who \n",
    "            listed a profile on the official Team USA page and looked at tweets \n",
    "            from the broader Twitter audience that directly mentioned those handles \n",
    "            during the Games. Here are some key takeaways for how the public engaged \n",
    "            with Team USA on Twitter.\n",
    "            \n",
    "            All told, 598 athletes were listed on the Team USA website at the start \n",
    "            of the Games. And 438 of them (73% of the total) included a Twitter handle \n",
    "            in their athlete profile. From July 21 through Aug. 9, 2021 – the Games \n",
    "            themselves, postponed from the year before, were held July 23 to Aug. 8 – \n",
    "            more than 900,000 different Twitter accounts directly mentioned the handles \n",
    "            of U.S. Olympians in more than 2.1 million tweets. The vast majority (90%) \n",
    "            of those athlete accounts were mentioned at least once during that time.\n",
    "\n",
    "            These mentions were especially concentrated on a few key dates. Nearly a \n",
    "            third (31%) of all athlete mentions occurred during the three days of July 27-29, \n",
    "            a period that included the women’s team and individual gymnastics finals and \n",
    "            swimmer Katie Ledecky winning the gold medal in the 1,500-meter freestyle.\n",
    "            \"\"\",\n",
    "           max_length = 100)"
   ]
  },
  {
   "cell_type": "markdown",
   "id": "9845222a-e713-4dc8-807e-f3e8cfa06049",
   "metadata": {},
   "source": [
    "### Translation\n",
    "(asking an encoder-decoder model to translate an input from a specified source language to a specified target language)"
   ]
  },
  {
   "cell_type": "code",
   "execution_count": 7,
   "id": "da36afc4-b6f7-4864-838b-28595b6b863d",
   "metadata": {},
   "outputs": [
    {
     "name": "stderr",
     "output_type": "stream",
     "text": [
      "No model was supplied, defaulted to t5-base (https://huggingface.co/t5-base)\n"
     ]
    },
    {
     "data": {
      "text/plain": [
       "[{'translation_text': \"Je m'appelle Sam et je travaille au sein de l'équipe Data Labs du Pew Research Center à Washington DC.\"}]"
      ]
     },
     "execution_count": 7,
     "metadata": {},
     "output_type": "execute_result"
    }
   ],
   "source": [
    "translator = pipeline(\"translation_en_to_fr\")\n",
    "translator(\"My name is Sam and I work on the Data Labs team at Pew Research Center in Washington DC.\")"
   ]
  },
  {
   "cell_type": "markdown",
   "id": "b843084b-7d58-48b2-bc6b-335330e46c82",
   "metadata": {},
   "source": [
    "### Named entity recognition (NER)\n",
    "(asking an encoder model to extract entities such as persons, locations, or organizations from an input sequence)"
   ]
  },
  {
   "cell_type": "code",
   "execution_count": 8,
   "id": "93f8a1ec-fd22-4a8b-9fb8-0532cb974c10",
   "metadata": {},
   "outputs": [
    {
     "name": "stderr",
     "output_type": "stream",
     "text": [
      "No model was supplied, defaulted to dbmdz/bert-large-cased-finetuned-conll03-english (https://huggingface.co/dbmdz/bert-large-cased-finetuned-conll03-english)\n",
      "/home/sbestvater/.local/lib/python3.9/site-packages/transformers/pipelines/token_classification.py:154: UserWarning: `grouped_entities` is deprecated and will be removed in version v5.0.0, defaulted to `aggregation_strategy=\"AggregationStrategy.SIMPLE\"` instead.\n",
      "  warnings.warn(\n"
     ]
    },
    {
     "data": {
      "text/plain": [
       "[{'entity_group': 'PER',\n",
       "  'score': 0.99874526,\n",
       "  'word': 'Sam',\n",
       "  'start': 11,\n",
       "  'end': 14},\n",
       " {'entity_group': 'ORG',\n",
       "  'score': 0.9987684,\n",
       "  'word': 'Data Labs',\n",
       "  'start': 33,\n",
       "  'end': 42},\n",
       " {'entity_group': 'ORG',\n",
       "  'score': 0.99569225,\n",
       "  'word': 'Pew Research Center',\n",
       "  'start': 51,\n",
       "  'end': 70},\n",
       " {'entity_group': 'LOC',\n",
       "  'score': 0.99902904,\n",
       "  'word': 'Washington DC',\n",
       "  'start': 74,\n",
       "  'end': 87}]"
      ]
     },
     "execution_count": 8,
     "metadata": {},
     "output_type": "execute_result"
    }
   ],
   "source": [
    "ner = pipeline(\"ner\",\n",
    "              grouped_entities = True # Allows n-gram entities\n",
    "              )\n",
    "ner(\"My name is Sam and I work on the Data Labs team at Pew Research Center in Washington DC.\")"
   ]
  },
  {
   "cell_type": "markdown",
   "id": "77ed279e-1cd8-4992-a63a-695ba248efbf",
   "metadata": {},
   "source": [
    "### Question Answering\n",
    "(providing an encoder model with a context statement and asking it questions based on that context)"
   ]
  },
  {
   "cell_type": "code",
   "execution_count": 9,
   "id": "85d0e10e-9e4d-44ca-8a77-1de0cf058ab4",
   "metadata": {},
   "outputs": [
    {
     "name": "stderr",
     "output_type": "stream",
     "text": [
      "No model was supplied, defaulted to distilbert-base-cased-distilled-squad (https://huggingface.co/distilbert-base-cased-distilled-squad)\n"
     ]
    },
    {
     "data": {
      "text/plain": [
       "[{'score': 0.9965927004814148, 'start': 11, 'end': 14, 'answer': 'Sam'},\n",
       " {'score': 0.3084445297718048,\n",
       "  'start': 51,\n",
       "  'end': 70,\n",
       "  'answer': 'Pew Research Center'}]"
      ]
     },
     "execution_count": 9,
     "metadata": {},
     "output_type": "execute_result"
    }
   ],
   "source": [
    "question_answerer = pipeline(\"question-answering\")\n",
    "question_answerer(\n",
    "    question=[\"What is my name?\", \"Where do I work?\"],\n",
    "    context=\"My name is Sam and I work on the Data Labs team at Pew Research Center in Washington DC.\"\n",
    ")"
   ]
  },
  {
   "cell_type": "markdown",
   "id": "5d66382b-a910-4168-afa6-159d818119ae",
   "metadata": {},
   "source": [
    "### Feature Extraction\n",
    "(using an encoder model to encode an input text into a contextual embedding that can be used for other NLP tasks)"
   ]
  },
  {
   "cell_type": "code",
   "execution_count": 10,
   "id": "d53a12cc-ecc7-4c41-87e7-29e416e57210",
   "metadata": {},
   "outputs": [
    {
     "name": "stderr",
     "output_type": "stream",
     "text": [
      "No model was supplied, defaulted to distilbert-base-cased (https://huggingface.co/distilbert-base-cased)\n",
      "Some weights of the model checkpoint at distilbert-base-cased were not used when initializing DistilBertModel: ['vocab_transform.bias', 'vocab_layer_norm.weight', 'vocab_layer_norm.bias', 'vocab_projector.weight', 'vocab_transform.weight', 'vocab_projector.bias']\n",
      "- This IS expected if you are initializing DistilBertModel from the checkpoint of a model trained on another task or with another architecture (e.g. initializing a BertForSequenceClassification model from a BertForPreTraining model).\n",
      "- This IS NOT expected if you are initializing DistilBertModel from the checkpoint of a model that you expect to be exactly identical (initializing a BertForSequenceClassification model from a BertForSequenceClassification model).\n"
     ]
    },
    {
     "data": {
      "text/plain": [
       "(1, 9, 768)"
      ]
     },
     "execution_count": 10,
     "metadata": {},
     "output_type": "execute_result"
    }
   ],
   "source": [
    "encoder = pipeline(\"feature-extraction\")\n",
    "embedding = encoder(\"Hobbits have hairy feet.\")\n",
    "\n",
    "embedding = np.array(embedding)\n",
    "\n",
    "embedding.shape"
   ]
  },
  {
   "cell_type": "code",
   "execution_count": 11,
   "id": "045700dc-9a0d-49f3-9f50-294b468ec6a3",
   "metadata": {},
   "outputs": [
    {
     "name": "stderr",
     "output_type": "stream",
     "text": [
      "No model was supplied, defaulted to distilbert-base-cased (https://huggingface.co/distilbert-base-cased)\n",
      "Some weights of the model checkpoint at distilbert-base-cased were not used when initializing DistilBertModel: ['vocab_transform.bias', 'vocab_layer_norm.weight', 'vocab_layer_norm.bias', 'vocab_projector.weight', 'vocab_transform.weight', 'vocab_projector.bias']\n",
      "- This IS expected if you are initializing DistilBertModel from the checkpoint of a model trained on another task or with another architecture (e.g. initializing a BertForSequenceClassification model from a BertForPreTraining model).\n",
      "- This IS NOT expected if you are initializing DistilBertModel from the checkpoint of a model that you expect to be exactly identical (initializing a BertForSequenceClassification model from a BertForSequenceClassification model).\n"
     ]
    },
    {
     "data": {
      "text/plain": [
       "(2, 14, 768)"
      ]
     },
     "execution_count": 11,
     "metadata": {},
     "output_type": "execute_result"
    }
   ],
   "source": [
    "encoder = pipeline(\"feature-extraction\")\n",
    "embedding = encoder([\"Hobbits have hairy feet.\",\n",
    "                     \"Does BERT know what a Hobbit is?\"])\n",
    "\n",
    "embedding = np.array(embedding)\n",
    "\n",
    "embedding.shape"
   ]
  },
  {
   "cell_type": "markdown",
   "id": "523d1e53-d49f-4589-b0c2-39cbeebf97b7",
   "metadata": {},
   "source": [
    "### 4.2 Less abstraction: using the Trainer API\n",
    "\n",
    "The `Pipeline` API makes certain pre-defined tasks really really easy, but it's doing a lot under the hood. \n",
    "\n",
    "Moving from raw text to predictions requires not just a model, but also a tokenizer that produces inputs the model understands, and a post-processing step that can convert the raw model outputs into something interpretable. "
   ]
  },
  {
   "cell_type": "markdown",
   "id": "3a2e872b-036a-4c1f-8c5b-ffae080a294d",
   "metadata": {},
   "source": [
    "![Under the hood](https://huggingface.co/course/static/chapter2/full_nlp_pipeline.png)"
   ]
  },
  {
   "cell_type": "markdown",
   "id": "aa53358f-661f-41f8-856d-1c9739f74b40",
   "metadata": {},
   "source": [
    "Sometimes we need models for tasks outside of these pre-determined pipelines. For that, we can use the `Trainer` API, which gives us more control over these underlying components of the model and allows us to fine-tune pre-trained models on new, task-specific data.\n",
    "\n",
    "Let's say we want to fine-tune a transformer for a custom classification task, such as identifying the stance of tweets about the Kavanaugh confirmation hearings (see [Bestvater & Monroe, working paper](https://bestvater.github.io/pdfs/BestvaterMonroe_SentimentIsNotStance.pdf) -- absolutely shameless self-promotion.) \n",
    "\n",
    "Let's load some data. Probably the most common way to do this in Python is with Pandas:"
   ]
  },
  {
   "cell_type": "code",
   "execution_count": 12,
   "id": "30320e2d-8071-4869-b409-e52b17cc1f4a",
   "metadata": {},
   "outputs": [
    {
     "data": {
      "text/html": [
       "<div>\n",
       "<style scoped>\n",
       "    .dataframe tbody tr th:only-of-type {\n",
       "        vertical-align: middle;\n",
       "    }\n",
       "\n",
       "    .dataframe tbody tr th {\n",
       "        vertical-align: top;\n",
       "    }\n",
       "\n",
       "    .dataframe thead th {\n",
       "        text-align: right;\n",
       "    }\n",
       "</style>\n",
       "<table border=\"1\" class=\"dataframe\">\n",
       "  <thead>\n",
       "    <tr style=\"text-align: right;\">\n",
       "      <th></th>\n",
       "      <th>text</th>\n",
       "      <th>stance</th>\n",
       "    </tr>\n",
       "  </thead>\n",
       "  <tbody>\n",
       "    <tr>\n",
       "      <th>795</th>\n",
       "      <td>'He's a Liar': Watters Rips RI Sen. Whitehouse...</td>\n",
       "      <td>Supports the Kavanaugh confirmation</td>\n",
       "    </tr>\n",
       "    <tr>\n",
       "      <th>665</th>\n",
       "      <td>HERE WE GO - WHAT IS IT WITH SENATORS FROM NEW...</td>\n",
       "      <td>Supports the Kavanaugh confirmation</td>\n",
       "    </tr>\n",
       "    <tr>\n",
       "      <th>1389</th>\n",
       "      <td>JUST IN: Democrats float idea of impeaching Ka...</td>\n",
       "      <td>Supports the Kavanaugh confirmation</td>\n",
       "    </tr>\n",
       "    <tr>\n",
       "      <th>416</th>\n",
       "      <td>She already has her mind made up...She knows A...</td>\n",
       "      <td>Opposes the Kavanaugh confirmation</td>\n",
       "    </tr>\n",
       "    <tr>\n",
       "      <th>147</th>\n",
       "      <td>Only 31% of Americans believe that Brett Kavan...</td>\n",
       "      <td>Opposes the Kavanaugh confirmation</td>\n",
       "    </tr>\n",
       "  </tbody>\n",
       "</table>\n",
       "</div>"
      ],
      "text/plain": [
       "                                                   text  \\\n",
       "795   'He's a Liar': Watters Rips RI Sen. Whitehouse...   \n",
       "665   HERE WE GO - WHAT IS IT WITH SENATORS FROM NEW...   \n",
       "1389  JUST IN: Democrats float idea of impeaching Ka...   \n",
       "416   She already has her mind made up...She knows A...   \n",
       "147   Only 31% of Americans believe that Brett Kavan...   \n",
       "\n",
       "                                   stance  \n",
       "795   Supports the Kavanaugh confirmation  \n",
       "665   Supports the Kavanaugh confirmation  \n",
       "1389  Supports the Kavanaugh confirmation  \n",
       "416    Opposes the Kavanaugh confirmation  \n",
       "147    Opposes the Kavanaugh confirmation  "
      ]
     },
     "execution_count": 12,
     "metadata": {},
     "output_type": "execute_result"
    }
   ],
   "source": [
    "kav_tweets = pd.read_csv('https://github.com/bestvater/misc/raw/master/kavanaugh_tweets_stance.csv',\n",
    "                         usecols = ['text', 'stance'])\n",
    "\n",
    "kav_tweets['stance'] = np.where(kav_tweets['stance'] == 1, # make the labels more informative\n",
    "                                'Supports the Kavanaugh confirmation', \n",
    "                                'Opposes the Kavanaugh confirmation')\n",
    "\n",
    "kav_tweets = kav_tweets.sample(n = 100, random_state = 101) # subset so training doesn't take forever\n",
    "\n",
    "kav_tweets.head()"
   ]
  },
  {
   "cell_type": "markdown",
   "id": "4242b02a-4969-41d7-996d-b51d0dd7cbf8",
   "metadata": {},
   "source": [
    "Let's convert this to a hugging face dataset though--this will give us some specific functionality that we don't get with Pandas."
   ]
  },
  {
   "cell_type": "code",
   "execution_count": 13,
   "id": "837a3078-1716-4e69-b1db-d1986c92962a",
   "metadata": {},
   "outputs": [
    {
     "data": {
      "text/plain": [
       "Dataset({\n",
       "    features: ['text', 'stance', '__index_level_0__'],\n",
       "    num_rows: 100\n",
       "})"
      ]
     },
     "execution_count": 13,
     "metadata": {},
     "output_type": "execute_result"
    }
   ],
   "source": [
    "from datasets import Dataset\n",
    "\n",
    "kav_tweets = Dataset.from_pandas(kav_tweets)\n",
    "\n",
    "kav_tweets"
   ]
  },
  {
   "cell_type": "markdown",
   "id": "8a4909c5-af91-4054-9bc9-63a879591212",
   "metadata": {},
   "source": [
    "Okay, now we can get started. First we need to decide on a model checkpoint. This is a sequence classification task, so we want one of the encoder models. I'm going to go with `DistilBERT` because it's relatively lightweight."
   ]
  },
  {
   "cell_type": "code",
   "execution_count": 14,
   "id": "89ebc9aa-1f7a-4da3-8ddd-610141d80969",
   "metadata": {},
   "outputs": [],
   "source": [
    "checkpoint = 'distilbert-base-uncased'"
   ]
  },
  {
   "cell_type": "markdown",
   "id": "27d57459-9f11-4113-8539-1cd1490ed496",
   "metadata": {},
   "source": [
    "### Tokenizing/Preprocessing\n",
    "\n",
    "Once we've chosen a model to use, we need to do some preprocessing to convert the raw texts we want to classify into inputs that our `DistilBERT` model will recognize. We do this using a `tokenizer` function, which is provided along with every pre-trained model in the hugging face library."
   ]
  },
  {
   "cell_type": "code",
   "execution_count": 15,
   "id": "2f49fdcd-fb75-47d9-b1b3-da2a140d0cdb",
   "metadata": {},
   "outputs": [
    {
     "data": {
      "text/plain": [
       "PreTrainedTokenizerFast(name_or_path='distilbert-base-uncased', vocab_size=30522, model_max_len=512, is_fast=True, padding_side='right', special_tokens={'unk_token': '[UNK]', 'sep_token': '[SEP]', 'pad_token': '[PAD]', 'cls_token': '[CLS]', 'mask_token': '[MASK]'})"
      ]
     },
     "execution_count": 15,
     "metadata": {},
     "output_type": "execute_result"
    }
   ],
   "source": [
    "from transformers import AutoTokenizer\n",
    "\n",
    "tokenizer = AutoTokenizer.from_pretrained(checkpoint, # loads the tokenizer for the model we specify\n",
    "                                         model_max_len = 128) # set the dimension of the input vector. Default is 512\n",
    "\n",
    "tokenizer"
   ]
  },
  {
   "cell_type": "markdown",
   "id": "795075b3-816d-42cf-b71b-5faaab101655",
   "metadata": {},
   "source": [
    "Here's what happens when we pass a raw text to this tokenizer:"
   ]
  },
  {
   "cell_type": "code",
   "execution_count": 16,
   "id": "a8bacb46-10ac-4a3d-bd67-93ef989e645e",
   "metadata": {},
   "outputs": [
    {
     "data": {
      "text/plain": [
       "{'input_ids': [101, 7592, 1012, 2023, 2003, 2365, 2080, 2013, 2147, 1012, 102], 'attention_mask': [1, 1, 1, 1, 1, 1, 1, 1, 1, 1, 1]}"
      ]
     },
     "execution_count": 16,
     "metadata": {},
     "output_type": "execute_result"
    }
   ],
   "source": [
    "tokenizer('Hello. This is Sono from work.')"
   ]
  },
  {
   "cell_type": "markdown",
   "id": "f8e68c26-7507-47b3-98fe-8cf94ad3ef10",
   "metadata": {},
   "source": [
    "Now I'm going to wrap that in another function so I can easily apply it to the whole dataset at once using `map()`. This isn't strictly necessary, but for big datasets it can speed things up a lot. "
   ]
  },
  {
   "cell_type": "code",
   "execution_count": 17,
   "id": "ffb0d288-c30c-4c51-832c-a805c238d24e",
   "metadata": {},
   "outputs": [
    {
     "data": {
      "application/vnd.jupyter.widget-view+json": {
       "model_id": "e7ed9d19dd6d4a1d85dc024c0101766c",
       "version_major": 2,
       "version_minor": 0
      },
      "text/plain": [
       "  0%|          | 0/1 [00:00<?, ?ba/s]"
      ]
     },
     "metadata": {},
     "output_type": "display_data"
    },
    {
     "data": {
      "text/plain": [
       "Dataset({\n",
       "    features: ['__index_level_0__', 'attention_mask', 'input_ids', 'stance', 'text'],\n",
       "    num_rows: 100\n",
       "})"
      ]
     },
     "execution_count": 17,
     "metadata": {},
     "output_type": "execute_result"
    }
   ],
   "source": [
    "def tokenize_function(input_dataset):\n",
    "    return tokenizer(input_dataset['text'],\n",
    "                     padding = 'max_length', # will pad documents shorter than 128 tokens\n",
    "                     truncation = True ) # will truncate documents longer than 128 tokens\n",
    "\n",
    "kav_tweets = kav_tweets.map(tokenize_function, batched = True)\n",
    "\n",
    "kav_tweets"
   ]
  },
  {
   "cell_type": "markdown",
   "id": "6e22f333-3055-4398-96b4-3dbaf109f07b",
   "metadata": {},
   "source": [
    "Now our dataset has the `input_ids` and `attention_mask` vectors that we'll need to pass to the model. Before we do that, though, let's process the `stance` column, which contains our labels. "
   ]
  },
  {
   "cell_type": "code",
   "execution_count": 18,
   "id": "6111cfa4-33e1-480c-9404-52d28b2d5775",
   "metadata": {},
   "outputs": [
    {
     "data": {
      "application/vnd.jupyter.widget-view+json": {
       "model_id": "632a3f63325c4180abdaed2d1929f298",
       "version_major": 2,
       "version_minor": 0
      },
      "text/plain": [
       "  0%|          | 0/1 [00:00<?, ?ba/s]"
      ]
     },
     "metadata": {},
     "output_type": "display_data"
    },
    {
     "data": {
      "application/vnd.jupyter.widget-view+json": {
       "model_id": "b799055f590a4a9993b048f564a332d7",
       "version_major": 2,
       "version_minor": 0
      },
      "text/plain": [
       "  0%|          | 0/1 [00:00<?, ?ba/s]"
      ]
     },
     "metadata": {},
     "output_type": "display_data"
    },
    {
     "data": {
      "text/plain": [
       "Dataset({\n",
       "    features: ['__index_level_0__', 'attention_mask', 'input_ids', 'text', 'labels'],\n",
       "    num_rows: 100\n",
       "})"
      ]
     },
     "execution_count": 18,
     "metadata": {},
     "output_type": "execute_result"
    }
   ],
   "source": [
    "kav_tweets = kav_tweets.rename_column('stance', 'labels')\n",
    "kav_tweets = kav_tweets.class_encode_column('labels') # tells the model that this is the labels column\n",
    "\n",
    "kav_tweets"
   ]
  },
  {
   "cell_type": "markdown",
   "id": "64b88799-cca1-4d7d-9fe0-cc6dd0a3cbfb",
   "metadata": {},
   "source": [
    "### The Model\n",
    "\n",
    "Now that we've got correctly pre-processed texts, we can load and fine-tune our `DistilBERT` model."
   ]
  },
  {
   "cell_type": "code",
   "execution_count": 19,
   "id": "5c942f81-13e2-46de-a6f8-bd5a0b7798dd",
   "metadata": {},
   "outputs": [
    {
     "name": "stderr",
     "output_type": "stream",
     "text": [
      "Some weights of the model checkpoint at distilbert-base-uncased were not used when initializing DistilBertForSequenceClassification: ['vocab_transform.bias', 'vocab_layer_norm.weight', 'vocab_layer_norm.bias', 'vocab_projector.weight', 'vocab_transform.weight', 'vocab_projector.bias']\n",
      "- This IS expected if you are initializing DistilBertForSequenceClassification from the checkpoint of a model trained on another task or with another architecture (e.g. initializing a BertForSequenceClassification model from a BertForPreTraining model).\n",
      "- This IS NOT expected if you are initializing DistilBertForSequenceClassification from the checkpoint of a model that you expect to be exactly identical (initializing a BertForSequenceClassification model from a BertForSequenceClassification model).\n",
      "Some weights of DistilBertForSequenceClassification were not initialized from the model checkpoint at distilbert-base-uncased and are newly initialized: ['classifier.bias', 'pre_classifier.weight', 'classifier.weight', 'pre_classifier.bias']\n",
      "You should probably TRAIN this model on a down-stream task to be able to use it for predictions and inference.\n"
     ]
    }
   ],
   "source": [
    "from transformers import AutoModelForSequenceClassification\n",
    "\n",
    "model = AutoModelForSequenceClassification.from_pretrained(checkpoint, # tell from_pretrained to load distilbert\n",
    "                                                           num_labels = 2) # tell it to add a binary classifier head"
   ]
  },
  {
   "cell_type": "markdown",
   "id": "a73a3d66-662d-430c-bd5d-92b3314e3414",
   "metadata": {},
   "source": [
    "Okay, that warning message is telling us that we need to TRAIN this model before it will be useful to us. We can do that using a `Trainer()`."
   ]
  },
  {
   "cell_type": "code",
   "execution_count": 20,
   "id": "ac2596d0-02b8-4d3d-a683-a30de75b7979",
   "metadata": {},
   "outputs": [],
   "source": [
    "from transformers import TrainingArguments, Trainer"
   ]
  },
  {
   "cell_type": "markdown",
   "id": "94e7741c-2c26-48a9-88fc-6cd8e11dc5b3",
   "metadata": {},
   "source": [
    "The `TrainingArguments()` class lets us specify all of the parameters that get passed to a `Trainer()`. Most of the defaults are sensible, but we're going to tweak a couple of things:"
   ]
  },
  {
   "cell_type": "code",
   "execution_count": 21,
   "id": "feb8bfe2-adf6-491b-a737-4f60b6dcac7f",
   "metadata": {},
   "outputs": [],
   "source": [
    "training_args = TrainingArguments(output_dir = './distilbert_model', # specify the directory where our fine-tuned model will be saved\n",
    "                                  overwrite_output_dir = True, # so it doesn't make a new copy every time I run this\n",
    "                                  evaluation_strategy = 'no', # check model performance every epoch\n",
    "                                  logging_strategy = 'no', # we're not going to log the model's performance anywhere though\n",
    "                                  per_device_train_batch_size = 64, # how many inputs to process at once during training\n",
    "                                  num_train_epochs = 2 # how many times to pass through the entire training set\n",
    "                                 )"
   ]
  },
  {
   "cell_type": "code",
   "execution_count": 22,
   "id": "be351a34-f75e-4053-a340-50f7caea6206",
   "metadata": {},
   "outputs": [],
   "source": [
    "trainer = Trainer(\n",
    "    model = model,\n",
    "    args = training_args,\n",
    "    train_dataset = kav_tweets,\n",
    "    eval_dataset = kav_tweets # don't evaluate on the training data, bad.\n",
    ")"
   ]
  },
  {
   "cell_type": "code",
   "execution_count": 23,
   "id": "04f4c553-8cc5-4416-b878-6975235ae079",
   "metadata": {},
   "outputs": [
    {
     "name": "stderr",
     "output_type": "stream",
     "text": [
      "The following columns in the training set  don't have a corresponding argument in `DistilBertForSequenceClassification.forward` and have been ignored: text, __index_level_0__.\n",
      "***** Running training *****\n",
      "  Num examples = 100\n",
      "  Num Epochs = 2\n",
      "  Instantaneous batch size per device = 64\n",
      "  Total train batch size (w. parallel, distributed & accumulation) = 64\n",
      "  Gradient Accumulation steps = 1\n",
      "  Total optimization steps = 4\n"
     ]
    },
    {
     "data": {
      "text/html": [
       "\n",
       "    <div>\n",
       "      \n",
       "      <progress value='4' max='4' style='width:300px; height:20px; vertical-align: middle;'></progress>\n",
       "      [4/4 00:49, Epoch 2/2]\n",
       "    </div>\n",
       "    <table border=\"1\" class=\"dataframe\">\n",
       "  <thead>\n",
       "    <tr style=\"text-align: left;\">\n",
       "      <th>Step</th>\n",
       "      <th>Training Loss</th>\n",
       "    </tr>\n",
       "  </thead>\n",
       "  <tbody>\n",
       "  </tbody>\n",
       "</table><p>"
      ],
      "text/plain": [
       "<IPython.core.display.HTML object>"
      ]
     },
     "metadata": {},
     "output_type": "display_data"
    },
    {
     "name": "stderr",
     "output_type": "stream",
     "text": [
      "\n",
      "\n",
      "Training completed. Do not forget to share your model on huggingface.co/models =)\n",
      "\n",
      "\n"
     ]
    },
    {
     "data": {
      "text/plain": [
       "TrainOutput(global_step=4, training_loss=0.6789906024932861, metrics={'train_runtime': 72.9341, 'train_samples_per_second': 2.742, 'train_steps_per_second': 0.055, 'total_flos': 26493479731200.0, 'train_loss': 0.6789906024932861, 'epoch': 2.0})"
      ]
     },
     "execution_count": 23,
     "metadata": {},
     "output_type": "execute_result"
    }
   ],
   "source": [
    "trainer.train() # this takes a little while on CPU"
   ]
  },
  {
   "cell_type": "markdown",
   "id": "bb2b0423-8569-4495-9133-8042692e2183",
   "metadata": {},
   "source": [
    "Okay, so that's a fine-tuned DistilBERT model. Let's try getting classifications for a couple new texts:"
   ]
  },
  {
   "cell_type": "code",
   "execution_count": 24,
   "id": "21d173fa-ec95-4ed0-bfc2-29d06b21cbc5",
   "metadata": {},
   "outputs": [],
   "source": [
    "new_input = tokenizer([\"I don't think Brett Kavanaugh should be on the Supreme Court.\",\n",
    "                       \"Quit stalling and confirm Kavanaugh already!\"],\n",
    "                     padding = 'max_length',\n",
    "                     truncation = True,\n",
    "                     return_tensors = 'pt')"
   ]
  },
  {
   "cell_type": "code",
   "execution_count": 25,
   "id": "789c5250-4b08-499b-8488-0ddc28205444",
   "metadata": {},
   "outputs": [
    {
     "data": {
      "text/plain": [
       "SequenceClassifierOutput(loss=None, logits=tensor([[ 0.0304, -0.0640],\n",
       "        [-0.0036,  0.0088]], grad_fn=<AddmmBackward>), hidden_states=None, attentions=None)"
      ]
     },
     "execution_count": 25,
     "metadata": {},
     "output_type": "execute_result"
    }
   ],
   "source": [
    "outputs = model(**new_input)\n",
    "\n",
    "outputs"
   ]
  },
  {
   "cell_type": "markdown",
   "id": "10c1f837-e5b5-45cf-b034-dda367461ba3",
   "metadata": {},
   "source": [
    "Our model returns logits, which aren't particularly interpretable on their own. Let's transform those to probabilities:"
   ]
  },
  {
   "cell_type": "code",
   "execution_count": 26,
   "id": "a3872592-deb5-4a3a-8b37-d8f531474146",
   "metadata": {},
   "outputs": [
    {
     "data": {
      "text/plain": [
       "tensor([[0.5236, 0.4764],\n",
       "        [0.4969, 0.5031]], grad_fn=<SoftmaxBackward>)"
      ]
     },
     "execution_count": 26,
     "metadata": {},
     "output_type": "execute_result"
    }
   ],
   "source": [
    "predictions = torch.nn.functional.softmax(outputs.logits, dim=-1) #convert logits to probabilities\n",
    "\n",
    "predictions"
   ]
  },
  {
   "cell_type": "markdown",
   "id": "2c524fdd-71e1-4945-bc2e-50c5d6a51327",
   "metadata": {},
   "source": [
    "Well, those aren't very confident predictions, but we also only fine-tuned the model on 100 documents. Luckily, through some cooking show-style magic, I've saved a local copy of the model trained on the full dataset. Let's look at that instead.\n",
    "\n",
    "We can load local models by passing `AutoModelForSequenceClassification.from_pretrained()` the file path, like this:"
   ]
  },
  {
   "cell_type": "code",
   "execution_count": 27,
   "id": "7c2a85b3-9400-47f1-8cd2-c5743bdd561a",
   "metadata": {},
   "outputs": [
    {
     "name": "stderr",
     "output_type": "stream",
     "text": [
      "loading configuration file ./distilbert_cookingshow/config.json\n",
      "Model config DistilBertConfig {\n",
      "  \"_name_or_path\": \"distilbert-base-uncased\",\n",
      "  \"activation\": \"gelu\",\n",
      "  \"architectures\": [\n",
      "    \"DistilBertForSequenceClassification\"\n",
      "  ],\n",
      "  \"attention_dropout\": 0.1,\n",
      "  \"dim\": 768,\n",
      "  \"dropout\": 0.1,\n",
      "  \"hidden_dim\": 3072,\n",
      "  \"initializer_range\": 0.02,\n",
      "  \"max_position_embeddings\": 512,\n",
      "  \"model_type\": \"distilbert\",\n",
      "  \"n_heads\": 12,\n",
      "  \"n_layers\": 6,\n",
      "  \"pad_token_id\": 0,\n",
      "  \"problem_type\": \"single_label_classification\",\n",
      "  \"qa_dropout\": 0.1,\n",
      "  \"seq_classif_dropout\": 0.2,\n",
      "  \"sinusoidal_pos_embds\": false,\n",
      "  \"tie_weights_\": true,\n",
      "  \"torch_dtype\": \"float32\",\n",
      "  \"transformers_version\": \"4.10.3\",\n",
      "  \"vocab_size\": 30522\n",
      "}\n",
      "\n",
      "loading weights file ./distilbert_cookingshow/pytorch_model.bin\n",
      "All model checkpoint weights were used when initializing DistilBertForSequenceClassification.\n",
      "\n",
      "All the weights of DistilBertForSequenceClassification were initialized from the model checkpoint at ./distilbert_cookingshow.\n",
      "If your task is similar to the task the model of the checkpoint was trained on, you can already use DistilBertForSequenceClassification for predictions without further training.\n"
     ]
    }
   ],
   "source": [
    "model = AutoModelForSequenceClassification.from_pretrained('./distilbert_cookingshow', # tell from_pretrained to load from local directory\n",
    "                                                           num_labels = 2) # tell it to add a binary classifier head"
   ]
  },
  {
   "cell_type": "code",
   "execution_count": 28,
   "id": "7db00144-6faa-48d8-8a4c-571810c6d16a",
   "metadata": {},
   "outputs": [
    {
     "data": {
      "text/plain": [
       "tensor([[0.8586, 0.1414],\n",
       "        [0.1632, 0.8368]], grad_fn=<SoftmaxBackward>)"
      ]
     },
     "execution_count": 28,
     "metadata": {},
     "output_type": "execute_result"
    }
   ],
   "source": [
    "outputs = model(**new_input)\n",
    "\n",
    "predictions = torch.nn.functional.softmax(outputs.logits, dim=-1) #convert logits to probabilities\n",
    "\n",
    "predictions"
   ]
  },
  {
   "cell_type": "markdown",
   "id": "b8af95df-e32e-4df6-bcda-84e6cd9817ca",
   "metadata": {},
   "source": [
    "Nice. Now we have a custom classifier that can identify the stance of tweets about the Kavanaugh hearings."
   ]
  },
  {
   "cell_type": "markdown",
   "id": "81ddf670-b80b-41c7-a0b1-f45a2226f8a9",
   "metadata": {},
   "source": [
    "### 4.3 Even less abstraction: Transformers as PyTorch or TensorFlow model objects\n",
    "If we really want the ability to tweak anything at all, models on the Transformers hub are all just PyTorch objects (many are also availabile in TensorFlow). If we want to, we can just load the pretrained models and work with them directly in those frameworks, ignoring the huggingface APIs altogether. \n",
    "\n",
    "As a really quick proof of this, let's load the `summary` function from `torchinfo`. This is a simple function that prints out an architechture summary of any PyTorch model. We can apply this to our trained DistilBERT model:"
   ]
  },
  {
   "cell_type": "code",
   "execution_count": 29,
   "id": "d5a5f45c-f5bc-43a2-ba3c-c2148fb644aa",
   "metadata": {},
   "outputs": [
    {
     "data": {
      "text/plain": [
       "================================================================================\n",
       "Layer (type:depth-idx)                                  Param #\n",
       "================================================================================\n",
       "DistilBertForSequenceClassification                     --\n",
       "├─DistilBertModel: 1-1                                  --\n",
       "│    └─Embeddings: 2-1                                  --\n",
       "│    │    └─Embedding: 3-1                              23,440,896\n",
       "│    │    └─Embedding: 3-2                              393,216\n",
       "│    │    └─LayerNorm: 3-3                              1,536\n",
       "│    │    └─Dropout: 3-4                                --\n",
       "│    └─Transformer: 2-2                                 --\n",
       "│    │    └─ModuleList: 3-5                             42,527,232\n",
       "├─Linear: 1-2                                           590,592\n",
       "├─Linear: 1-3                                           1,538\n",
       "├─Dropout: 1-4                                          --\n",
       "================================================================================\n",
       "Total params: 66,955,010\n",
       "Trainable params: 66,955,010\n",
       "Non-trainable params: 0\n",
       "================================================================================"
      ]
     },
     "execution_count": 29,
     "metadata": {},
     "output_type": "execute_result"
    }
   ],
   "source": [
    "from torchinfo import summary\n",
    "\n",
    "summary(model)"
   ]
  },
  {
   "cell_type": "markdown",
   "id": "43bae96e-d2fa-46cf-8aba-2fe121603c7d",
   "metadata": {},
   "source": [
    "I won't go into any more PyTorch detail today, but it's worth knowing that you can work with these models this way if you want to."
   ]
  },
  {
   "cell_type": "markdown",
   "id": "21907a52-70c3-4303-8a09-a9e68d0724bd",
   "metadata": {},
   "source": [
    "## 5. A word of warning on algorithmic bias\n",
    "\n",
    "Transformers are cool and useful because they \"learn\" components of the complex interdependencies of natural language. But it's important to remember that they do this by being trained on massive amounts of text produced by humans, who have implicit biases. Large language models often learn the biases present in their training data. \n",
    "\n",
    "Here is an example, using the `fill-mask` pipeline, which is essentially asking the model to play madlibs and fill in a missing word in an input string."
   ]
  },
  {
   "cell_type": "code",
   "execution_count": 30,
   "id": "fdf2b857-85b3-4163-9f00-ae2db1efd787",
   "metadata": {},
   "outputs": [
    {
     "name": "stderr",
     "output_type": "stream",
     "text": [
      "loading configuration file https://huggingface.co/bert-base-uncased/resolve/main/config.json from cache at /home/sbestvater/.cache/huggingface/transformers/3c61d016573b14f7f008c02c4e51a366c67ab274726fe2910691e2a761acf43e.37395cee442ab11005bcd270f3c34464dc1704b715b5d7d52b1a461abe3b9e4e\n",
      "Model config BertConfig {\n",
      "  \"architectures\": [\n",
      "    \"BertForMaskedLM\"\n",
      "  ],\n",
      "  \"attention_probs_dropout_prob\": 0.1,\n",
      "  \"classifier_dropout\": null,\n",
      "  \"gradient_checkpointing\": false,\n",
      "  \"hidden_act\": \"gelu\",\n",
      "  \"hidden_dropout_prob\": 0.1,\n",
      "  \"hidden_size\": 768,\n",
      "  \"initializer_range\": 0.02,\n",
      "  \"intermediate_size\": 3072,\n",
      "  \"layer_norm_eps\": 1e-12,\n",
      "  \"max_position_embeddings\": 512,\n",
      "  \"model_type\": \"bert\",\n",
      "  \"num_attention_heads\": 12,\n",
      "  \"num_hidden_layers\": 12,\n",
      "  \"pad_token_id\": 0,\n",
      "  \"position_embedding_type\": \"absolute\",\n",
      "  \"transformers_version\": \"4.10.3\",\n",
      "  \"type_vocab_size\": 2,\n",
      "  \"use_cache\": true,\n",
      "  \"vocab_size\": 30522\n",
      "}\n",
      "\n",
      "loading configuration file https://huggingface.co/bert-base-uncased/resolve/main/config.json from cache at /home/sbestvater/.cache/huggingface/transformers/3c61d016573b14f7f008c02c4e51a366c67ab274726fe2910691e2a761acf43e.37395cee442ab11005bcd270f3c34464dc1704b715b5d7d52b1a461abe3b9e4e\n",
      "Model config BertConfig {\n",
      "  \"architectures\": [\n",
      "    \"BertForMaskedLM\"\n",
      "  ],\n",
      "  \"attention_probs_dropout_prob\": 0.1,\n",
      "  \"classifier_dropout\": null,\n",
      "  \"gradient_checkpointing\": false,\n",
      "  \"hidden_act\": \"gelu\",\n",
      "  \"hidden_dropout_prob\": 0.1,\n",
      "  \"hidden_size\": 768,\n",
      "  \"initializer_range\": 0.02,\n",
      "  \"intermediate_size\": 3072,\n",
      "  \"layer_norm_eps\": 1e-12,\n",
      "  \"max_position_embeddings\": 512,\n",
      "  \"model_type\": \"bert\",\n",
      "  \"num_attention_heads\": 12,\n",
      "  \"num_hidden_layers\": 12,\n",
      "  \"pad_token_id\": 0,\n",
      "  \"position_embedding_type\": \"absolute\",\n",
      "  \"transformers_version\": \"4.10.3\",\n",
      "  \"type_vocab_size\": 2,\n",
      "  \"use_cache\": true,\n",
      "  \"vocab_size\": 30522\n",
      "}\n",
      "\n",
      "loading weights file https://huggingface.co/bert-base-uncased/resolve/main/pytorch_model.bin from cache at /home/sbestvater/.cache/huggingface/transformers/a8041bf617d7f94ea26d15e218abd04afc2004805632abc0ed2066aa16d50d04.faf6ea826ae9c5867d12b22257f9877e6b8367890837bd60f7c54a29633f7f2f\n",
      "Some weights of the model checkpoint at bert-base-uncased were not used when initializing BertForMaskedLM: ['cls.seq_relationship.bias', 'cls.seq_relationship.weight']\n",
      "- This IS expected if you are initializing BertForMaskedLM from the checkpoint of a model trained on another task or with another architecture (e.g. initializing a BertForSequenceClassification model from a BertForPreTraining model).\n",
      "- This IS NOT expected if you are initializing BertForMaskedLM from the checkpoint of a model that you expect to be exactly identical (initializing a BertForSequenceClassification model from a BertForSequenceClassification model).\n",
      "All the weights of BertForMaskedLM were initialized from the model checkpoint at bert-base-uncased.\n",
      "If your task is similar to the task the model of the checkpoint was trained on, you can already use BertForMaskedLM for predictions without further training.\n",
      "loading configuration file https://huggingface.co/bert-base-uncased/resolve/main/config.json from cache at /home/sbestvater/.cache/huggingface/transformers/3c61d016573b14f7f008c02c4e51a366c67ab274726fe2910691e2a761acf43e.37395cee442ab11005bcd270f3c34464dc1704b715b5d7d52b1a461abe3b9e4e\n",
      "Model config BertConfig {\n",
      "  \"architectures\": [\n",
      "    \"BertForMaskedLM\"\n",
      "  ],\n",
      "  \"attention_probs_dropout_prob\": 0.1,\n",
      "  \"classifier_dropout\": null,\n",
      "  \"gradient_checkpointing\": false,\n",
      "  \"hidden_act\": \"gelu\",\n",
      "  \"hidden_dropout_prob\": 0.1,\n",
      "  \"hidden_size\": 768,\n",
      "  \"initializer_range\": 0.02,\n",
      "  \"intermediate_size\": 3072,\n",
      "  \"layer_norm_eps\": 1e-12,\n",
      "  \"max_position_embeddings\": 512,\n",
      "  \"model_type\": \"bert\",\n",
      "  \"num_attention_heads\": 12,\n",
      "  \"num_hidden_layers\": 12,\n",
      "  \"pad_token_id\": 0,\n",
      "  \"position_embedding_type\": \"absolute\",\n",
      "  \"transformers_version\": \"4.10.3\",\n",
      "  \"type_vocab_size\": 2,\n",
      "  \"use_cache\": true,\n",
      "  \"vocab_size\": 30522\n",
      "}\n",
      "\n",
      "loading file https://huggingface.co/bert-base-uncased/resolve/main/vocab.txt from cache at /home/sbestvater/.cache/huggingface/transformers/45c3f7a79a80e1cf0a489e5c62b43f173c15db47864303a55d623bb3c96f72a5.d789d64ebfe299b0e416afc4a169632f903f693095b4629a7ea271d5a0cf2c99\n",
      "loading file https://huggingface.co/bert-base-uncased/resolve/main/tokenizer.json from cache at /home/sbestvater/.cache/huggingface/transformers/534479488c54aeaf9c3406f647aa2ec13648c06771ffe269edabebd4c412da1d.7f2721073f19841be16f41b0a70b600ca6b880c8f3df6f3535cbc704371bdfa4\n",
      "loading file https://huggingface.co/bert-base-uncased/resolve/main/added_tokens.json from cache at None\n",
      "loading file https://huggingface.co/bert-base-uncased/resolve/main/special_tokens_map.json from cache at None\n",
      "loading file https://huggingface.co/bert-base-uncased/resolve/main/tokenizer_config.json from cache at /home/sbestvater/.cache/huggingface/transformers/c1d7f0a763fb63861cc08553866f1fc3e5a6f4f07621be277452d26d71303b7e.20430bd8e10ef77a7d2977accefe796051e01bc2fc4aa146bc862997a1a15e79\n",
      "loading configuration file https://huggingface.co/bert-base-uncased/resolve/main/config.json from cache at /home/sbestvater/.cache/huggingface/transformers/3c61d016573b14f7f008c02c4e51a366c67ab274726fe2910691e2a761acf43e.37395cee442ab11005bcd270f3c34464dc1704b715b5d7d52b1a461abe3b9e4e\n",
      "Model config BertConfig {\n",
      "  \"architectures\": [\n",
      "    \"BertForMaskedLM\"\n",
      "  ],\n",
      "  \"attention_probs_dropout_prob\": 0.1,\n",
      "  \"classifier_dropout\": null,\n",
      "  \"gradient_checkpointing\": false,\n",
      "  \"hidden_act\": \"gelu\",\n",
      "  \"hidden_dropout_prob\": 0.1,\n",
      "  \"hidden_size\": 768,\n",
      "  \"initializer_range\": 0.02,\n",
      "  \"intermediate_size\": 3072,\n",
      "  \"layer_norm_eps\": 1e-12,\n",
      "  \"max_position_embeddings\": 512,\n",
      "  \"model_type\": \"bert\",\n",
      "  \"num_attention_heads\": 12,\n",
      "  \"num_hidden_layers\": 12,\n",
      "  \"pad_token_id\": 0,\n",
      "  \"position_embedding_type\": \"absolute\",\n",
      "  \"transformers_version\": \"4.10.3\",\n",
      "  \"type_vocab_size\": 2,\n",
      "  \"use_cache\": true,\n",
      "  \"vocab_size\": 30522\n",
      "}\n",
      "\n"
     ]
    }
   ],
   "source": [
    "fill_blank = pipeline(\"fill-mask\", model = 'bert-base-uncased')"
   ]
  },
  {
   "cell_type": "code",
   "execution_count": 31,
   "id": "cc970823-ca3e-40c6-8fea-9625f02f9fe7",
   "metadata": {},
   "outputs": [
    {
     "name": "stdout",
     "output_type": "stream",
     "text": [
      "['carpenter', 'lawyer', 'farmer', 'businessman', 'doctor']\n"
     ]
    }
   ],
   "source": [
    "result = fill_blank(\"This man works as a [MASK].\")\n",
    "print([r[\"token_str\"] for r in result])"
   ]
  },
  {
   "cell_type": "code",
   "execution_count": 32,
   "id": "80e3f743-50eb-41b6-9c0d-c945a8cf5074",
   "metadata": {},
   "outputs": [
    {
     "name": "stdout",
     "output_type": "stream",
     "text": [
      "['nurse', 'maid', 'teacher', 'waitress', 'prostitute']\n"
     ]
    }
   ],
   "source": [
    "result = fill_blank(\"This woman works as a [MASK].\")\n",
    "print([r[\"token_str\"] for r in result])"
   ]
  },
  {
   "cell_type": "markdown",
   "id": "401b0137-e58f-4df3-bb71-9b27fa0843d1",
   "metadata": {},
   "source": [
    "Wow. That is *obnoxiously* sexist.\n",
    "\n",
    "For this example we used the `bert-base-uncased` model, which is trained on the English Wikipedia and BookCorpus datasets. The BookCorpus in particular includes a lot of older texts, so that might be the source for some of this bias, but some other large language models are trained on more contemporary texts scraped from all over the internet, which can produce other, potentially worse issues."
   ]
  },
  {
   "cell_type": "code",
   "execution_count": null,
   "id": "6ad96bdb-2a45-4e4b-8272-bb236cd8168a",
   "metadata": {},
   "outputs": [],
   "source": []
  }
 ],
 "metadata": {
  "kernelspec": {
   "display_name": "Python 3 (ipykernel)",
   "language": "python",
   "name": "python3"
  },
  "language_info": {
   "codemirror_mode": {
    "name": "ipython",
    "version": 3
   },
   "file_extension": ".py",
   "mimetype": "text/x-python",
   "name": "python",
   "nbconvert_exporter": "python",
   "pygments_lexer": "ipython3",
   "version": "3.9.6"
  }
 },
 "nbformat": 4,
 "nbformat_minor": 5
}
