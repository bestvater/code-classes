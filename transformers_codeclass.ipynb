{
 "cells": [
  {
   "cell_type": "markdown",
   "id": "ea056661",
   "metadata": {},
   "source": [
    "# NLP Transfer Learning with 🤗 Transformers\n",
    "\n",
    "#### Data Labs Code Class Tues., 10/5\n",
    "\n",
    "#### Sam Bestvater | Computational Social Scientist\n",
    "\n",
    "In this notebook, I introduce and demonstrate the Hugging Face (🤗) `Transformers` package, a Python package for transfer learning in neural NLP that is quickly becoming one of the essential tools in the field. \n",
    "\n",
    "This notebook draws heavily from the documentation for the package. For more info, see:\n",
    "- [huggingface.co/transformers](https://huggingface.co/transformers)\n",
    "- [huggingface.co/course](https://huggingface.co/course)"
   ]
  },
  {
   "cell_type": "markdown",
   "id": "d39135e8",
   "metadata": {},
   "source": [
    "## 0. Setup\n",
    "(what packages & dependencies to install if you want to follow along with the notebook)"
   ]
  },
  {
   "cell_type": "code",
   "execution_count": 1,
   "id": "158171aa",
   "metadata": {},
   "outputs": [],
   "source": [
    "# # Uncomment this block to install torch on linux (labs jupyterhub server)\n",
    "\n",
    "# !pip install transformers --user\n",
    "# !pip install datasets --user\n",
    "# !pip install sentencepiece --user\n",
    "# !pip install torch==1.9.1+cpu torchvision==0.10.1+cpu torchaudio==0.9.1 -f https://download.pytorch.org/whl/torch_stable.html --user\n",
    "# !pip install torchinfo --user"
   ]
  },
  {
   "cell_type": "code",
   "execution_count": 2,
   "id": "723694a1",
   "metadata": {},
   "outputs": [],
   "source": [
    "# # Uncomment this block to install torch on MacOS (local machine)\n",
    "\n",
    "# !pip install transformers \n",
    "# !pip install datasets\n",
    "# !pip install sentencepiece\n",
    "# !pip install conda install pytorch torchvision torchaudio -c pytorch\n",
    "# !pip install torchinfo\n"
   ]
  },
  {
   "cell_type": "markdown",
   "id": "b68e3a45",
   "metadata": {},
   "source": [
    "## 1. What is a Transformer model, and how does it work?\n",
    "\n",
    "Let's establish some other definitions first:\n",
    "- neural networks: what if instead of using just one logistic regression, we chained a bunch of them together in multiple layers? Turns out that gives us a really flexible model for working with super high dimensional data types like text or images. [(3Blue1Brown has a great series on YouTube if you want to actually understand how neural nets work in any detail.)](https://www.youtube.com/watch?v=aircAruvnKk)\n",
    "- model architecture: the configuration of units and connections that define a specific neural network (i.e. the overall shape of the model).\n",
    "- model checkpoint: the parameters (weights and biases) that the model learns through training. (i.e. the trained model)\n",
    "- transfer learning: taking a model checkpoint trained on one task or dataset and using it for another task or dataset (either as-is, or modified to adapt it to that task).\n",
    "- language modeling: statistically modeling how words in natural language relate to each other, often for next-word or missing-word prediction (like predictive keyboards on smartphones). It turns out that language models are good to use for transfer learning, because the things they learn about the underlying interdependencies of language are widely useful for a variety of NLP tasks. \n",
    "\n",
    "A *Transformer* is a kind of neural network architecture designed for language modeling, first introduced by researchers at Google in 2017 [(Vaswani et al. 2017)](https://proceedings.neurips.cc/paper/2017/file/3f5ee243547dee91fbd053c1c4a845aa-Paper.pdf). The big innovation of the transformer architecture is that it is much more computationally efficient than the other types of neural network architectures used for language modeling up to that point (mostly RNNs and LSTMs). The efficiency of the architecture meant that researchers could train much larger models on much larger quantities of data. Another research team at Google followed up the original Transformer paper by releasing a model called BERT, and open-sourcing the model checkpoints for other researchers to use [(Devlin et al. 2018)](https://arxiv.org/pdf/1810.04805.pdf&usg=ALkJrhhzxlCL6yTht2BRmH9atgvKFxHsxQ). The BERT model has 336M trainable parameters and recognizes a vocabulary of over 30,000 English terms. It was trained on two massive text corpora, the WikiText-103 corpus (which is basically all of wikipedia) and the BookCorpus. \n",
    "\n",
    "The publication of BERT launched a new era in NLP research, as these huge language models facilitated much more effective transfer learning than anything that had come before. Most tasks in NLP can be improved through the use of BERT or another transformer model like it.\n",
    "\n"
   ]
  },
  {
   "cell_type": "markdown",
   "id": "6c1701bb",
   "metadata": {},
   "source": [
    "## 2. What kinds of things can you do with Transformers?\n",
    "\n",
    "A bunch of things!\n",
    "\n",
    "- Sequence classification: (sentiment analysis, spam detection, grammar checking, logical entailment, etc.)\n",
    "- Token classification: (POS-tagging, named entity recognition, masked token prediction, etc.)\n",
    "- Text generation: (GPT stuff & things)\n",
    "- Sequence transformation: (document summarization, document translation, etc.)\n",
    "- Text representation: (producing contextual embeddings, representing multilingual texts, etc.)\n",
    "\n",
    "The kind of task we want to complete will help determine what kind of model we need. The family of Transformer architectures can be further segmented into *encoder*, *decoder* and *encoder-decoder* models, and each of these subtypes is used for different types of tasks. \n",
    "\n",
    "*Encoder* Transformers take texts as input and convert them to numerical representations (embeddings) that can then be used for a variety of classification tasks. BERT is an example of an encoder-only transformer.\n",
    "\n",
    "The original Transformer architecture introduced by [Vaswani et al.](https://proceedings.neurips.cc/paper/2017/file/3f5ee243547dee91fbd053c1c4a845aa-Paper.pdf) is an *encoder-decoder* (sometimes called sequence-to-sequence) model. It was designed for machine translation tasks, where we want to take an input text and translate it into another language while maintaining the same essential meaning. This can be done by using both an *encoder* and a *decoder*. The encoder will convert the input text into embeddings, then the decoder will convert those embeddings into text in the new language. \n",
    "\n",
    "There are also *Decoder*-only Transformers. GPT-2/GPT-3 are examples of these. These models tend to be used for text generation.\n",
    "\n"
   ]
  },
  {
   "cell_type": "markdown",
   "id": "bb8510f0",
   "metadata": {},
   "source": [
    "## 3. What is 🤗?\n",
    "\n",
    "🤗 (Hugging Face) exists in the form that it does today as a result of competition between the two most common deep learning frameworks for Python, `PyTorch` and `TensorFlow`. Researchers at Google first introduced the Transformer architecture [(Vaswani et al. 2017)](https://proceedings.neurips.cc/paper/2017/file/3f5ee243547dee91fbd053c1c4a845aa-Paper.pdf) and also developed BERT, one of the early general-purpose Transformer language models [(Devlin et al. 2018)](https://arxiv.org/pdf/1810.04805.pdf&usg=ALkJrhhzxlCL6yTht2BRmH9atgvKFxHsxQ). Google also owns TensorFlow, so when the BERT paper was published in 2018, the research team open sourced the pre-trained models as TensorFlow objects (which are all still available on their [GitHub](https://github.com/google-research/bert), BTW). The developers at Hugging Face wanted to use BERT models in their research, but primarily worked in PyTorch, so they converted the models and released a python package called `pytorch-pretrained-bert` that was simply a set of commands for downloading the converted BERT models as PyTorch objects. This quickly became hugely popular, and the de-facto default implementation for other researchers who wanted to use BERT models with PyTorch (which was a lot of people). As more pre-trained transformers were published, Hugging Face started hosting those as well, and began developing a general set of tools to work with these models. Around this time they also changed the name of their python package to the more general `transformers`.\n",
    "\n",
    "Today, Hugging Face maintains several python packages.\n",
    "\n",
    "- `transformers` provides functions for downloading and implementing Transformer models for NLP tasks. All the tools now work in both PyTorch and TensorFlow, and many models are now available for both frameworks as well. \n",
    "- `huggingface_hub` integrates with the online repository of models that Hugging Face hosts ([huggingface.co/models](https://huggingface.co/models)) and allows users to upload their own fine-tuned transformers. There are currently 17,196 model checkpoints hosted on the Hugging Face Hub.\n",
    "- `datasets` provides easy access to an online library of major public datasets for NLP, and also provides an efficient data format for use with `transformers` functions and models."
   ]
  },
  {
   "cell_type": "markdown",
   "id": "b0c1f825",
   "metadata": {},
   "source": [
    "## 4. Cool! Let's see some examples!"
   ]
  },
  {
   "cell_type": "markdown",
   "id": "83acb65f",
   "metadata": {},
   "source": [
    "### 4.1 At a high level: using the Pipeline API\n",
    "\n",
    "The `Pipeline` API abstracts away most of the technical detail of the underlying models, allowing us to focus on using pre-trained models for specific, well-defined tasks."
   ]
  },
  {
   "cell_type": "code",
   "execution_count": 3,
   "id": "73d56f1c",
   "metadata": {},
   "outputs": [
    {
     "name": "stderr",
     "output_type": "stream",
     "text": [
      "2021-10-04 19:35:46.281701: W tensorflow/stream_executor/platform/default/dso_loader.cc:64] Could not load dynamic library 'libcudart.so.11.0'; dlerror: libcudart.so.11.0: cannot open shared object file: No such file or directory\n",
      "2021-10-04 19:35:46.281737: I tensorflow/stream_executor/cuda/cudart_stub.cc:29] Ignore above cudart dlerror if you do not have a GPU set up on your machine.\n"
     ]
    },
    {
     "name": "stdout",
     "output_type": "stream",
     "text": [
      "CPU only\n"
     ]
    }
   ],
   "source": [
    "from transformers import pipeline\n",
    "\n",
    "import pandas as pd\n",
    "import numpy as np\n",
    "\n",
    "import torch\n",
    "\n",
    "print('CUDA enabled') if torch.cuda.is_available() else print('CPU only')"
   ]
  },
  {
   "cell_type": "markdown",
   "id": "ce8b739d",
   "metadata": {},
   "source": [
    "### Sentiment Analysis\n",
    "(asking an encoder model to determine if the overall tone of a text is positive or negative)"
   ]
  },
  {
   "cell_type": "code",
   "execution_count": 4,
   "id": "6af104ee",
   "metadata": {},
   "outputs": [
    {
     "name": "stderr",
     "output_type": "stream",
     "text": [
      "No model was supplied, defaulted to distilbert-base-uncased-finetuned-sst-2-english (https://huggingface.co/distilbert-base-uncased-finetuned-sst-2-english)\n"
     ]
    },
    {
     "data": {
      "text/plain": [
       "[{'label': 'POSITIVE', 'score': 0.9998788833618164},\n",
       " {'label': 'NEGATIVE', 'score': 0.9997871518135071}]"
      ]
     },
     "execution_count": 4,
     "metadata": {},
     "output_type": "execute_result"
    }
   ],
   "source": [
    "classifier = pipeline(\"sentiment-analysis\")\n",
    "classifier(\n",
    "    [\"Everyone on Data Labs is amazing and brilliant!\", \n",
    "    \"This code class is so boring, I wish Sam would stop talking.\"],\n",
    ")"
   ]
  },
  {
   "cell_type": "markdown",
   "id": "deb43089",
   "metadata": {},
   "source": [
    "### Zero-shot classification\n",
    "(asking an encoder model to classify a text from a list of labels it's never seen before)"
   ]
  },
  {
   "cell_type": "code",
   "execution_count": 5,
   "id": "ef6d4e2b",
   "metadata": {},
   "outputs": [
    {
     "name": "stderr",
     "output_type": "stream",
     "text": [
      "No model was supplied, defaulted to facebook/bart-large-mnli (https://huggingface.co/facebook/bart-large-mnli)\n"
     ]
    },
    {
     "data": {
      "text/plain": [
       "[{'sequence': 'The 2020 election featured dramatic increases in lawmaker posts and audience engagement',\n",
       "  'labels': ['politics', 'business', 'health', 'education'],\n",
       "  'scores': [0.950331449508667,\n",
       "   0.026905572041869164,\n",
       "   0.012079858221113682,\n",
       "   0.010683099739253521]},\n",
       " {'sequence': 'Majority in U.S. Says Public Health Benefits of COVID-19 Restrictions Worth the Costs',\n",
       "  'labels': ['health', 'business', 'politics', 'education'],\n",
       "  'scores': [0.9772828221321106,\n",
       "   0.011761322617530823,\n",
       "   0.008106389082968235,\n",
       "   0.00284951226785779]}]"
      ]
     },
     "execution_count": 5,
     "metadata": {},
     "output_type": "execute_result"
    }
   ],
   "source": [
    "classifier = pipeline(\"zero-shot-classification\")\n",
    "classifier(\n",
    "    [\"The 2020 election featured dramatic increases in lawmaker posts and audience engagement\",\n",
    "    \"Majority in U.S. Says Public Health Benefits of COVID-19 Restrictions Worth the Costs\"],\n",
    "    candidate_labels=[\"education\", \"politics\", \"business\", \"health\"],\n",
    ")"
   ]
  },
  {
   "cell_type": "markdown",
   "id": "007f24c2",
   "metadata": {},
   "source": [
    "### Text generation\n",
    "(asking a decoder model to produce more text from a given input)"
   ]
  },
  {
   "cell_type": "code",
   "execution_count": 6,
   "id": "75d9df0c",
   "metadata": {},
   "outputs": [
    {
     "name": "stderr",
     "output_type": "stream",
     "text": [
      "No model was supplied, defaulted to gpt2 (https://huggingface.co/gpt2)\n",
      "Using pad_token, but it is not set yet.\n",
      "Setting `pad_token_id` to `eos_token_id`:50256 for open-end generation.\n"
     ]
    },
    {
     "data": {
      "text/plain": [
       "[{'generated_text': 'In a hole in the ground, there lived a Hobbit. They gave him a sword and a pair of spurs. They put him into the dungeon, and he was saved.\\n\\nWhen he was sixteen it was the night he had just given'},\n",
       " {'generated_text': 'In a hole in the ground, there lived a Hobbit. In this case, it was a black dragon. I have no idea what it was called. Or how it looked on the ground.\"\\n\\n\"The black dragon is the first character who'}]"
      ]
     },
     "execution_count": 6,
     "metadata": {},
     "output_type": "execute_result"
    }
   ],
   "source": [
    "generator = pipeline(\"text-generation\")\n",
    "generator(\"In a hole in the ground, there lived a Hobbit.\",\n",
    "         num_return_sequences = 2, # how many examples you'd like the model to produce\n",
    "         max_length = 50) # how long these should be"
   ]
  },
  {
   "cell_type": "markdown",
   "id": "2a196bd4",
   "metadata": {},
   "source": [
    "### Summarization\n",
    "(asking an encoder-decoder model to produce a shorter version of a given input)"
   ]
  },
  {
   "cell_type": "code",
   "execution_count": 7,
   "id": "6a3bc0f9",
   "metadata": {},
   "outputs": [
    {
     "name": "stderr",
     "output_type": "stream",
     "text": [
      "No model was supplied, defaulted to sshleifer/distilbart-cnn-12-6 (https://huggingface.co/sshleifer/distilbart-cnn-12-6)\n"
     ]
    },
    {
     "data": {
      "text/plain": [
       "[{'summary_text': ' Pew Research Center captured the Twitter handles of every athlete who listed a profile on the official Team USA page and looked at tweets from the broader Twitter audience . From July 21 through Aug. 9, 2021 – the Games were held July 23 to Aug. 8 – more than 900,000 different Twitter accounts directly mentioned the handles of U.S. Olympians in more than 2.1 million tweets .'}]"
      ]
     },
     "execution_count": 7,
     "metadata": {},
     "output_type": "execute_result"
    }
   ],
   "source": [
    "summarizer = pipeline(\"summarization\")\n",
    "summarizer(\"\"\"\n",
    "            Although gymnast Simone Biles’ medal count fell slightly short of the \n",
    "            sports world’s lofty expectations in the Tokyo 2020 Olympic Games, \n",
    "            she dominated among U.S. Olympians in the number of times her handle, \n",
    "            @Simone_Biles, was mentioned on Twitter.\n",
    "\n",
    "            Pew Research Center captured the Twitter handles of every athlete who \n",
    "            listed a profile on the official Team USA page and looked at tweets \n",
    "            from the broader Twitter audience that directly mentioned those handles \n",
    "            during the Games. Here are some key takeaways for how the public engaged \n",
    "            with Team USA on Twitter.\n",
    "            \n",
    "            All told, 598 athletes were listed on the Team USA website at the start \n",
    "            of the Games. And 438 of them (73% of the total) included a Twitter handle \n",
    "            in their athlete profile. From July 21 through Aug. 9, 2021 – the Games \n",
    "            themselves, postponed from the year before, were held July 23 to Aug. 8 – \n",
    "            more than 900,000 different Twitter accounts directly mentioned the handles \n",
    "            of U.S. Olympians in more than 2.1 million tweets. The vast majority (90%) \n",
    "            of those athlete accounts were mentioned at least once during that time.\n",
    "\n",
    "            These mentions were especially concentrated on a few key dates. Nearly a \n",
    "            third (31%) of all athlete mentions occurred during the three days of July 27-29, \n",
    "            a period that included the women’s team and individual gymnastics finals and \n",
    "            swimmer Katie Ledecky winning the gold medal in the 1,500-meter freestyle.\n",
    "            \"\"\",\n",
    "           max_length = 100)"
   ]
  },
  {
   "cell_type": "markdown",
   "id": "4af9226f",
   "metadata": {},
   "source": [
    "### Translation\n",
    "(asking an encoder-decoder model to translate an input from a specified source language to a specified target language)"
   ]
  },
  {
   "cell_type": "code",
   "execution_count": 8,
   "id": "6512ab1c",
   "metadata": {},
   "outputs": [
    {
     "name": "stderr",
     "output_type": "stream",
     "text": [
      "No model was supplied, defaulted to t5-base (https://huggingface.co/t5-base)\n"
     ]
    },
    {
     "data": {
      "text/plain": [
       "[{'translation_text': \"Je m'appelle Sam et je travaille au sein de l'équipe Data Labs du Pew Research Center à Washington DC.\"}]"
      ]
     },
     "execution_count": 8,
     "metadata": {},
     "output_type": "execute_result"
    }
   ],
   "source": [
    "translator = pipeline(\"translation_en_to_fr\")\n",
    "translator(\"My name is Sam and I work on the Data Labs team at Pew Research Center in Washington DC.\")"
   ]
  },
  {
   "cell_type": "markdown",
   "id": "762a1828",
   "metadata": {},
   "source": [
    "### Named entity recognition (NER)\n",
    "(asking an encoder model to extract entities such as persons, locations, or organizations from an input sequence)"
   ]
  },
  {
   "cell_type": "code",
   "execution_count": 9,
   "id": "2b7f2c4a",
   "metadata": {},
   "outputs": [
    {
     "name": "stderr",
     "output_type": "stream",
     "text": [
      "No model was supplied, defaulted to dbmdz/bert-large-cased-finetuned-conll03-english (https://huggingface.co/dbmdz/bert-large-cased-finetuned-conll03-english)\n",
      "/home/sbestvater/.local/lib/python3.9/site-packages/transformers/pipelines/token_classification.py:154: UserWarning: `grouped_entities` is deprecated and will be removed in version v5.0.0, defaulted to `aggregation_strategy=\"AggregationStrategy.SIMPLE\"` instead.\n",
      "  warnings.warn(\n"
     ]
    },
    {
     "data": {
      "text/plain": [
       "[{'entity_group': 'PER',\n",
       "  'score': 0.99874526,\n",
       "  'word': 'Sam',\n",
       "  'start': 11,\n",
       "  'end': 14},\n",
       " {'entity_group': 'ORG',\n",
       "  'score': 0.9987684,\n",
       "  'word': 'Data Labs',\n",
       "  'start': 33,\n",
       "  'end': 42},\n",
       " {'entity_group': 'ORG',\n",
       "  'score': 0.99569225,\n",
       "  'word': 'Pew Research Center',\n",
       "  'start': 51,\n",
       "  'end': 70},\n",
       " {'entity_group': 'LOC',\n",
       "  'score': 0.99902904,\n",
       "  'word': 'Washington DC',\n",
       "  'start': 74,\n",
       "  'end': 87}]"
      ]
     },
     "execution_count": 9,
     "metadata": {},
     "output_type": "execute_result"
    }
   ],
   "source": [
    "ner = pipeline(\"ner\",\n",
    "              grouped_entities = True # Allows n-gram entities\n",
    "              )\n",
    "ner(\"My name is Sam and I work on the Data Labs team at Pew Research Center in Washington DC.\")"
   ]
  },
  {
   "cell_type": "markdown",
   "id": "1d5cecd2",
   "metadata": {},
   "source": [
    "### Question Answering\n",
    "(providing an encoder model with a context statement and asking it questions based on that context)"
   ]
  },
  {
   "cell_type": "code",
   "execution_count": 10,
   "id": "1850c506",
   "metadata": {},
   "outputs": [
    {
     "name": "stderr",
     "output_type": "stream",
     "text": [
      "No model was supplied, defaulted to distilbert-base-cased-distilled-squad (https://huggingface.co/distilbert-base-cased-distilled-squad)\n"
     ]
    },
    {
     "data": {
      "text/plain": [
       "[{'score': 0.9965927004814148, 'start': 11, 'end': 14, 'answer': 'Sam'},\n",
       " {'score': 0.3084445297718048,\n",
       "  'start': 51,\n",
       "  'end': 70,\n",
       "  'answer': 'Pew Research Center'}]"
      ]
     },
     "execution_count": 10,
     "metadata": {},
     "output_type": "execute_result"
    }
   ],
   "source": [
    "question_answerer = pipeline(\"question-answering\")\n",
    "question_answerer(\n",
    "    question=[\"What is my name?\", \"Where do I work?\"],\n",
    "    context=\"My name is Sam and I work on the Data Labs team at Pew Research Center in Washington DC.\"\n",
    ")"
   ]
  },
  {
   "cell_type": "markdown",
   "id": "0f0231f6",
   "metadata": {},
   "source": [
    "### Feature Extraction\n",
    "(using an encoder model to encode an input text into a contextual embedding that can be used for other NLP tasks)"
   ]
  },
  {
   "cell_type": "code",
   "execution_count": 11,
   "id": "6277cd09",
   "metadata": {},
   "outputs": [
    {
     "name": "stderr",
     "output_type": "stream",
     "text": [
      "No model was supplied, defaulted to distilbert-base-cased (https://huggingface.co/distilbert-base-cased)\n",
      "Some weights of the model checkpoint at distilbert-base-cased were not used when initializing DistilBertModel: ['vocab_transform.weight', 'vocab_projector.bias', 'vocab_layer_norm.weight', 'vocab_layer_norm.bias', 'vocab_transform.bias', 'vocab_projector.weight']\n",
      "- This IS expected if you are initializing DistilBertModel from the checkpoint of a model trained on another task or with another architecture (e.g. initializing a BertForSequenceClassification model from a BertForPreTraining model).\n",
      "- This IS NOT expected if you are initializing DistilBertModel from the checkpoint of a model that you expect to be exactly identical (initializing a BertForSequenceClassification model from a BertForSequenceClassification model).\n"
     ]
    },
    {
     "data": {
      "text/plain": [
       "(1, 9, 768)"
      ]
     },
     "execution_count": 11,
     "metadata": {},
     "output_type": "execute_result"
    }
   ],
   "source": [
    "encoder = pipeline(\"feature-extraction\")\n",
    "embedding = encoder(\"Hobbits have hairy feet.\")\n",
    "\n",
    "embedding = np.array(embedding)\n",
    "\n",
    "embedding.shape"
   ]
  },
  {
   "cell_type": "code",
   "execution_count": 12,
   "id": "a5d60327",
   "metadata": {},
   "outputs": [
    {
     "name": "stderr",
     "output_type": "stream",
     "text": [
      "No model was supplied, defaulted to distilbert-base-cased (https://huggingface.co/distilbert-base-cased)\n",
      "Some weights of the model checkpoint at distilbert-base-cased were not used when initializing DistilBertModel: ['vocab_transform.weight', 'vocab_projector.bias', 'vocab_layer_norm.weight', 'vocab_layer_norm.bias', 'vocab_transform.bias', 'vocab_projector.weight']\n",
      "- This IS expected if you are initializing DistilBertModel from the checkpoint of a model trained on another task or with another architecture (e.g. initializing a BertForSequenceClassification model from a BertForPreTraining model).\n",
      "- This IS NOT expected if you are initializing DistilBertModel from the checkpoint of a model that you expect to be exactly identical (initializing a BertForSequenceClassification model from a BertForSequenceClassification model).\n"
     ]
    },
    {
     "data": {
      "text/plain": [
       "(2, 14, 768)"
      ]
     },
     "execution_count": 12,
     "metadata": {},
     "output_type": "execute_result"
    }
   ],
   "source": [
    "encoder = pipeline(\"feature-extraction\")\n",
    "embedding = encoder([\"Hobbits have hairy feet.\",\n",
    "                     \"Does BERT know what a Hobbit is?\"])\n",
    "\n",
    "embedding = np.array(embedding)\n",
    "\n",
    "embedding.shape"
   ]
  },
  {
   "cell_type": "code",
   "execution_count": 13,
   "id": "a4ed3c8d",
   "metadata": {},
   "outputs": [],
   "source": [
    "# remove previous models to free up memory:\n",
    "import gc\n",
    "\n",
    "del classifier\n",
    "del generator\n",
    "del summarizer\n",
    "del translator\n",
    "del ner\n",
    "del question_answerer\n",
    "del encoder\n",
    "\n",
    "gc.collect()\n",
    "\n",
    "if torch.cuda.is_available():\n",
    "    torch.cuda.empty_cache()\n",
    "\n",
    "    t = torch.cuda.get_device_properties(0).total_memory\n",
    "    r = torch.cuda.memory_reserved(0)\n",
    "    a = torch.cuda.memory_allocated(0)\n",
    "    f = r-a  # free inside reserved\n",
    "\n",
    "    print(t)\n",
    "    print(f)"
   ]
  },
  {
   "cell_type": "markdown",
   "id": "9d318a1f",
   "metadata": {},
   "source": [
    "### 4.2 Less abstraction: using the Trainer API\n",
    "\n",
    "The `Pipeline` API makes certain pre-defined tasks really really easy, but it's doing a lot under the hood. \n",
    "\n",
    "Moving from raw text to predictions requires not just a model, but also a tokenizer that produces inputs the model understands, and a post-processing step that can convert the raw model outputs into something interpretable. "
   ]
  },
  {
   "cell_type": "markdown",
   "id": "e011f88c",
   "metadata": {},
   "source": [
    "![Under the hood](https://huggingface.co/course/static/chapter2/full_nlp_pipeline.png)"
   ]
  },
  {
   "cell_type": "markdown",
   "id": "03ee2926",
   "metadata": {},
   "source": [
    "Sometimes we need models for tasks outside of these pre-determined pipelines. For that, we can use the `Trainer` API, which gives us more control over these underlying components of the model and allows us to fine-tune pre-trained models on new, task-specific data.\n",
    "\n",
    "Let's say we want to fine-tune a transformer for a custom classification task, such as identifying the stance of tweets about the Kavanaugh confirmation hearings (see [Bestvater & Monroe, working paper](https://bestvater.github.io/pdfs/BestvaterMonroe_SentimentIsNotStance.pdf) -- absolutely shameless self-promotion.) \n",
    "\n",
    "Let's load some data. Probably the most common way to do this in Python is with Pandas:"
   ]
  },
  {
   "cell_type": "code",
   "execution_count": 14,
   "id": "496b46a6",
   "metadata": {},
   "outputs": [
    {
     "data": {
      "text/html": [
       "<div>\n",
       "<style scoped>\n",
       "    .dataframe tbody tr th:only-of-type {\n",
       "        vertical-align: middle;\n",
       "    }\n",
       "\n",
       "    .dataframe tbody tr th {\n",
       "        vertical-align: top;\n",
       "    }\n",
       "\n",
       "    .dataframe thead th {\n",
       "        text-align: right;\n",
       "    }\n",
       "</style>\n",
       "<table border=\"1\" class=\"dataframe\">\n",
       "  <thead>\n",
       "    <tr style=\"text-align: right;\">\n",
       "      <th></th>\n",
       "      <th>text</th>\n",
       "      <th>stance</th>\n",
       "    </tr>\n",
       "  </thead>\n",
       "  <tbody>\n",
       "    <tr>\n",
       "      <th>795</th>\n",
       "      <td>'He's a Liar': Watters Rips RI Sen. Whitehouse...</td>\n",
       "      <td>Supports the Kavanaugh confirmation</td>\n",
       "    </tr>\n",
       "    <tr>\n",
       "      <th>665</th>\n",
       "      <td>HERE WE GO - WHAT IS IT WITH SENATORS FROM NEW...</td>\n",
       "      <td>Supports the Kavanaugh confirmation</td>\n",
       "    </tr>\n",
       "    <tr>\n",
       "      <th>1389</th>\n",
       "      <td>JUST IN: Democrats float idea of impeaching Ka...</td>\n",
       "      <td>Supports the Kavanaugh confirmation</td>\n",
       "    </tr>\n",
       "    <tr>\n",
       "      <th>416</th>\n",
       "      <td>She already has her mind made up...She knows A...</td>\n",
       "      <td>Opposes the Kavanaugh confirmation</td>\n",
       "    </tr>\n",
       "    <tr>\n",
       "      <th>147</th>\n",
       "      <td>Only 31% of Americans believe that Brett Kavan...</td>\n",
       "      <td>Opposes the Kavanaugh confirmation</td>\n",
       "    </tr>\n",
       "  </tbody>\n",
       "</table>\n",
       "</div>"
      ],
      "text/plain": [
       "                                                   text  \\\n",
       "795   'He's a Liar': Watters Rips RI Sen. Whitehouse...   \n",
       "665   HERE WE GO - WHAT IS IT WITH SENATORS FROM NEW...   \n",
       "1389  JUST IN: Democrats float idea of impeaching Ka...   \n",
       "416   She already has her mind made up...She knows A...   \n",
       "147   Only 31% of Americans believe that Brett Kavan...   \n",
       "\n",
       "                                   stance  \n",
       "795   Supports the Kavanaugh confirmation  \n",
       "665   Supports the Kavanaugh confirmation  \n",
       "1389  Supports the Kavanaugh confirmation  \n",
       "416    Opposes the Kavanaugh confirmation  \n",
       "147    Opposes the Kavanaugh confirmation  "
      ]
     },
     "execution_count": 14,
     "metadata": {},
     "output_type": "execute_result"
    }
   ],
   "source": [
    "kav_tweets = pd.read_csv('https://github.com/bestvater/misc/raw/master/kavanaugh_tweets_stance.csv',\n",
    "                         usecols = ['text', 'stance'])\n",
    "\n",
    "kav_tweets['stance'] = np.where(kav_tweets['stance'] == 1, # make the labels more informative\n",
    "                                'Supports the Kavanaugh confirmation', \n",
    "                                'Opposes the Kavanaugh confirmation')\n",
    "\n",
    "kav_tweets = kav_tweets.sample(n = 100, random_state = 101) # subset so training doesn't take forever\n",
    "\n",
    "kav_tweets.head()"
   ]
  },
  {
   "cell_type": "markdown",
   "id": "bfb71494",
   "metadata": {},
   "source": [
    "Let's convert this to a hugging face dataset though--this will give us some specific functionality that we don't get with Pandas."
   ]
  },
  {
   "cell_type": "code",
   "execution_count": 15,
   "id": "91f1a4fe",
   "metadata": {},
   "outputs": [
    {
     "data": {
      "text/plain": [
       "Dataset({\n",
       "    features: ['text', 'stance', '__index_level_0__'],\n",
       "    num_rows: 100\n",
       "})"
      ]
     },
     "execution_count": 15,
     "metadata": {},
     "output_type": "execute_result"
    }
   ],
   "source": [
    "from datasets import Dataset\n",
    "\n",
    "kav_tweets = Dataset.from_pandas(kav_tweets)\n",
    "\n",
    "kav_tweets"
   ]
  },
  {
   "cell_type": "markdown",
   "id": "1f1f1fd8",
   "metadata": {},
   "source": [
    "Okay, now we can get started. First we need to decide on a model checkpoint. This is a sequence classification task, so we want one of the encoder models. I'm going to go with `DistilBERT` because it's relatively lightweight."
   ]
  },
  {
   "cell_type": "code",
   "execution_count": 16,
   "id": "af329d79",
   "metadata": {},
   "outputs": [],
   "source": [
    "checkpoint = 'distilbert-base-uncased'"
   ]
  },
  {
   "cell_type": "markdown",
   "id": "f9733efc",
   "metadata": {},
   "source": [
    "### Tokenizing/Preprocessing\n",
    "\n",
    "Once we've chosen a model to use, we need to do some preprocessing to convert the raw texts we want to classify into inputs that our `DistilBERT` model will recognize. We do this using a `tokenizer` function, which is provided along with every pre-trained model in the hugging face library."
   ]
  },
  {
   "cell_type": "code",
   "execution_count": 17,
   "id": "a1342670",
   "metadata": {},
   "outputs": [
    {
     "data": {
      "text/plain": [
       "PreTrainedTokenizerFast(name_or_path='distilbert-base-uncased', vocab_size=30522, model_max_len=512, is_fast=True, padding_side='right', special_tokens={'unk_token': '[UNK]', 'sep_token': '[SEP]', 'pad_token': '[PAD]', 'cls_token': '[CLS]', 'mask_token': '[MASK]'})"
      ]
     },
     "execution_count": 17,
     "metadata": {},
     "output_type": "execute_result"
    }
   ],
   "source": [
    "from transformers import AutoTokenizer\n",
    "\n",
    "tokenizer = AutoTokenizer.from_pretrained(checkpoint, # loads the tokenizer for the model we specify\n",
    "                                         model_max_len = 128) # set the dimension of the input vector. Default is 512\n",
    "\n",
    "tokenizer"
   ]
  },
  {
   "cell_type": "markdown",
   "id": "28f5523d",
   "metadata": {},
   "source": [
    "Here's what happens when we pass a raw text to this tokenizer:"
   ]
  },
  {
   "cell_type": "code",
   "execution_count": 18,
   "id": "1f4063a6",
   "metadata": {},
   "outputs": [
    {
     "data": {
      "text/plain": [
       "{'input_ids': [101, 7592, 1012, 2023, 2003, 2365, 2080, 2013, 2147, 1012, 102], 'attention_mask': [1, 1, 1, 1, 1, 1, 1, 1, 1, 1, 1]}"
      ]
     },
     "execution_count": 18,
     "metadata": {},
     "output_type": "execute_result"
    }
   ],
   "source": [
    "tokenizer('Hello. This is Sono from work.')"
   ]
  },
  {
   "cell_type": "markdown",
   "id": "46761490",
   "metadata": {},
   "source": [
    "Now I'm going to wrap that in another function so I can easily apply it to the whole dataset at once using `map()`. This isn't strictly necessary, but for big datasets it can speed things up a lot. "
   ]
  },
  {
   "cell_type": "code",
   "execution_count": 19,
   "id": "46aa279c",
   "metadata": {},
   "outputs": [
    {
     "data": {
      "application/vnd.jupyter.widget-view+json": {
       "model_id": "7c256ee8db9b443083edc01586413fd6",
       "version_major": 2,
       "version_minor": 0
      },
      "text/plain": [
       "  0%|          | 0/1 [00:00<?, ?ba/s]"
      ]
     },
     "metadata": {},
     "output_type": "display_data"
    },
    {
     "data": {
      "text/plain": [
       "Dataset({\n",
       "    features: ['__index_level_0__', 'attention_mask', 'input_ids', 'stance', 'text'],\n",
       "    num_rows: 100\n",
       "})"
      ]
     },
     "execution_count": 19,
     "metadata": {},
     "output_type": "execute_result"
    }
   ],
   "source": [
    "def tokenize_function(input_dataset):\n",
    "    return tokenizer(input_dataset['text'],\n",
    "                     padding = 'max_length', # will pad documents shorter than 128 tokens\n",
    "                     truncation = True ) # will truncate documents longer than 128 tokens\n",
    "\n",
    "kav_tweets = kav_tweets.map(tokenize_function, batched = True)\n",
    "\n",
    "kav_tweets"
   ]
  },
  {
   "cell_type": "markdown",
   "id": "dc4abc7a",
   "metadata": {},
   "source": [
    "Now our dataset has the `input_ids` and `attention_mask` vectors that we'll need to pass to the model. Before we do that, though, let's process the `stance` column, which contains our labels. "
   ]
  },
  {
   "cell_type": "code",
   "execution_count": 20,
   "id": "933956ec",
   "metadata": {},
   "outputs": [
    {
     "data": {
      "application/vnd.jupyter.widget-view+json": {
       "model_id": "dbdff64b9d1346d9b6678005b4fb001a",
       "version_major": 2,
       "version_minor": 0
      },
      "text/plain": [
       "  0%|          | 0/1 [00:00<?, ?ba/s]"
      ]
     },
     "metadata": {},
     "output_type": "display_data"
    },
    {
     "data": {
      "application/vnd.jupyter.widget-view+json": {
       "model_id": "2b0e83fe62d543db98e2dc9be7f96955",
       "version_major": 2,
       "version_minor": 0
      },
      "text/plain": [
       "  0%|          | 0/1 [00:00<?, ?ba/s]"
      ]
     },
     "metadata": {},
     "output_type": "display_data"
    },
    {
     "data": {
      "text/plain": [
       "Dataset({\n",
       "    features: ['__index_level_0__', 'attention_mask', 'input_ids', 'text', 'labels'],\n",
       "    num_rows: 100\n",
       "})"
      ]
     },
     "execution_count": 20,
     "metadata": {},
     "output_type": "execute_result"
    }
   ],
   "source": [
    "kav_tweets = kav_tweets.rename_column('stance', 'labels')\n",
    "kav_tweets = kav_tweets.class_encode_column('labels') # tells the model that this is the labels column\n",
    "\n",
    "kav_tweets"
   ]
  },
  {
   "cell_type": "markdown",
   "id": "ee749a2c",
   "metadata": {},
   "source": [
    "### The Model\n",
    "\n",
    "Now that we've got correctly pre-processed texts, we can load and fine-tune our `DistilBERT` model."
   ]
  },
  {
   "cell_type": "code",
   "execution_count": 21,
   "id": "d72d1e2a",
   "metadata": {},
   "outputs": [
    {
     "name": "stderr",
     "output_type": "stream",
     "text": [
      "Some weights of the model checkpoint at distilbert-base-uncased were not used when initializing DistilBertForSequenceClassification: ['vocab_transform.weight', 'vocab_projector.bias', 'vocab_layer_norm.weight', 'vocab_layer_norm.bias', 'vocab_transform.bias', 'vocab_projector.weight']\n",
      "- This IS expected if you are initializing DistilBertForSequenceClassification from the checkpoint of a model trained on another task or with another architecture (e.g. initializing a BertForSequenceClassification model from a BertForPreTraining model).\n",
      "- This IS NOT expected if you are initializing DistilBertForSequenceClassification from the checkpoint of a model that you expect to be exactly identical (initializing a BertForSequenceClassification model from a BertForSequenceClassification model).\n",
      "Some weights of DistilBertForSequenceClassification were not initialized from the model checkpoint at distilbert-base-uncased and are newly initialized: ['pre_classifier.weight', 'pre_classifier.bias', 'classifier.bias', 'classifier.weight']\n",
      "You should probably TRAIN this model on a down-stream task to be able to use it for predictions and inference.\n"
     ]
    }
   ],
   "source": [
    "from transformers import AutoModelForSequenceClassification\n",
    "\n",
    "model = AutoModelForSequenceClassification.from_pretrained(checkpoint, # tell from_pretrained to load distilbert\n",
    "                                                           num_labels = 2) # tell it to add a binary classifier head"
   ]
  },
  {
   "cell_type": "markdown",
   "id": "f0089982",
   "metadata": {},
   "source": [
    "Okay, that warning message is telling us that we need to TRAIN this model before it will be useful to us. We can do that using a `Trainer()`."
   ]
  },
  {
   "cell_type": "code",
   "execution_count": 22,
   "id": "2c0f7def",
   "metadata": {},
   "outputs": [],
   "source": [
    "from transformers import TrainingArguments, Trainer"
   ]
  },
  {
   "cell_type": "markdown",
   "id": "ccc70746",
   "metadata": {},
   "source": [
    "The `TrainingArguments()` class lets us specify all of the parameters that get passed to a `Trainer()`. Most of the defaults are sensible, but we're going to tweak a couple of things:"
   ]
  },
  {
   "cell_type": "code",
   "execution_count": 23,
   "id": "25c57a83",
   "metadata": {},
   "outputs": [],
   "source": [
    "training_args = TrainingArguments(output_dir = './distilbert_model', # specify the directory where our fine-tuned model will be saved\n",
    "                                  overwrite_output_dir = True, # so it doesn't make a new copy every time I run this\n",
    "                                  evaluation_strategy = 'no', # check model performance every epoch\n",
    "                                  logging_strategy = 'no', # we're not going to log the model's performance anywhere though\n",
    "                                  per_device_train_batch_size = 16, # how many inputs to process at once during training\n",
    "                                  num_train_epochs = 2 # how many times to pass through the entire training set\n",
    "                                 )"
   ]
  },
  {
   "cell_type": "code",
   "execution_count": 24,
   "id": "60c51863",
   "metadata": {},
   "outputs": [],
   "source": [
    "trainer = Trainer(\n",
    "    model = model,\n",
    "    args = training_args,\n",
    "    train_dataset = kav_tweets,\n",
    "    eval_dataset = kav_tweets # don't evaluate on the training data, bad.\n",
    ")"
   ]
  },
  {
   "cell_type": "code",
   "execution_count": 25,
   "id": "c2c18442",
   "metadata": {},
   "outputs": [
    {
     "name": "stderr",
     "output_type": "stream",
     "text": [
      "The following columns in the training set  don't have a corresponding argument in `DistilBertForSequenceClassification.forward` and have been ignored: text, __index_level_0__.\n",
      "***** Running training *****\n",
      "  Num examples = 100\n",
      "  Num Epochs = 2\n",
      "  Instantaneous batch size per device = 16\n",
      "  Total train batch size (w. parallel, distributed & accumulation) = 16\n",
      "  Gradient Accumulation steps = 1\n",
      "  Total optimization steps = 14\n"
     ]
    },
    {
     "data": {
      "text/html": [
       "\n",
       "    <div>\n",
       "      \n",
       "      <progress value='14' max='14' style='width:300px; height:20px; vertical-align: middle;'></progress>\n",
       "      [14/14 00:52, Epoch 2/2]\n",
       "    </div>\n",
       "    <table border=\"1\" class=\"dataframe\">\n",
       "  <thead>\n",
       "    <tr style=\"text-align: left;\">\n",
       "      <th>Step</th>\n",
       "      <th>Training Loss</th>\n",
       "    </tr>\n",
       "  </thead>\n",
       "  <tbody>\n",
       "  </tbody>\n",
       "</table><p>"
      ],
      "text/plain": [
       "<IPython.core.display.HTML object>"
      ]
     },
     "metadata": {},
     "output_type": "display_data"
    },
    {
     "name": "stderr",
     "output_type": "stream",
     "text": [
      "\n",
      "\n",
      "Training completed. Do not forget to share your model on huggingface.co/models =)\n",
      "\n",
      "\n"
     ]
    },
    {
     "data": {
      "text/plain": [
       "TrainOutput(global_step=14, training_loss=0.6939981324332101, metrics={'train_runtime': 58.1848, 'train_samples_per_second': 3.437, 'train_steps_per_second': 0.241, 'total_flos': 26493479731200.0, 'train_loss': 0.6939981324332101, 'epoch': 2.0})"
      ]
     },
     "execution_count": 25,
     "metadata": {},
     "output_type": "execute_result"
    }
   ],
   "source": [
    "trainer.train() # this takes a little while on CPU"
   ]
  },
  {
   "cell_type": "markdown",
   "id": "9af14c2a",
   "metadata": {},
   "source": [
    "Okay, so that's a fine-tuned DistilBERT model. Let's try getting classifications for a couple new texts:"
   ]
  },
  {
   "cell_type": "code",
   "execution_count": 26,
   "id": "28d53db7",
   "metadata": {},
   "outputs": [],
   "source": [
    "new_input = tokenizer([\"I don't think Brett Kavanaugh should be on the Supreme Court.\",\n",
    "                       \"Quit stalling and confirm Kavanaugh already!\"],\n",
    "                     padding = 'max_length',\n",
    "                     truncation = True,\n",
    "                     return_tensors = 'pt')"
   ]
  },
  {
   "cell_type": "code",
   "execution_count": 27,
   "id": "f8c8afda",
   "metadata": {},
   "outputs": [
    {
     "data": {
      "text/plain": [
       "SequenceClassifierOutput(loss=None, logits=tensor([[ 0.1617, -0.0631],\n",
       "        [-0.0285, -0.0232]], grad_fn=<AddmmBackward>), hidden_states=None, attentions=None)"
      ]
     },
     "execution_count": 27,
     "metadata": {},
     "output_type": "execute_result"
    }
   ],
   "source": [
    "outputs = model(**new_input)\n",
    "\n",
    "outputs"
   ]
  },
  {
   "cell_type": "markdown",
   "id": "79daf9fd",
   "metadata": {},
   "source": [
    "Our model returns logits, which aren't particularly interpretable on their own. Let's transform those to probabilities:"
   ]
  },
  {
   "cell_type": "code",
   "execution_count": 28,
   "id": "480f3fed",
   "metadata": {},
   "outputs": [
    {
     "data": {
      "text/plain": [
       "tensor([[0.5560, 0.4440],\n",
       "        [0.4987, 0.5013]], grad_fn=<SoftmaxBackward>)"
      ]
     },
     "execution_count": 28,
     "metadata": {},
     "output_type": "execute_result"
    }
   ],
   "source": [
    "predictions = torch.nn.functional.softmax(outputs.logits, dim=-1) #convert logits to probabilities\n",
    "\n",
    "predictions"
   ]
  },
  {
   "cell_type": "markdown",
   "id": "8100cedf",
   "metadata": {},
   "source": [
    "Well, those aren't very confident predictions, but we also only fine-tuned the model on 100 documents. Luckily, through some cooking show-style magic, I've also trained a version of the model on the full dataset and uploaded that to the Hugging Face model hub. Let's look at that instead.\n",
    "\n",
    "We can load models from specific repos on the hub by passing `AutoModelForSequenceClassification.from_pretrained()` the repo and the model name, like this:"
   ]
  },
  {
   "cell_type": "code",
   "execution_count": 29,
   "id": "8491abc9",
   "metadata": {},
   "outputs": [
    {
     "name": "stderr",
     "output_type": "stream",
     "text": [
      "loading configuration file https://huggingface.co/bestvater/distilbert-kav-stance/resolve/main/config.json from cache at /home/sbestvater/.cache/huggingface/transformers/f333dc4604dbfd5a54e90fa6a608e7ce79f8e1ba4c1bcff4dc6e2c62c9ff44aa.79ed5439eb7e4356a6238a60a4acaf44e3089240708cb99f911118cb18a7b4d8\n",
      "Model config DistilBertConfig {\n",
      "  \"_name_or_path\": \"distilbert-base-uncased\",\n",
      "  \"activation\": \"gelu\",\n",
      "  \"architectures\": [\n",
      "    \"DistilBertForSequenceClassification\"\n",
      "  ],\n",
      "  \"attention_dropout\": 0.1,\n",
      "  \"dim\": 768,\n",
      "  \"dropout\": 0.1,\n",
      "  \"hidden_dim\": 3072,\n",
      "  \"initializer_range\": 0.02,\n",
      "  \"max_position_embeddings\": 512,\n",
      "  \"model_type\": \"distilbert\",\n",
      "  \"n_heads\": 12,\n",
      "  \"n_layers\": 6,\n",
      "  \"pad_token_id\": 0,\n",
      "  \"problem_type\": \"single_label_classification\",\n",
      "  \"qa_dropout\": 0.1,\n",
      "  \"seq_classif_dropout\": 0.2,\n",
      "  \"sinusoidal_pos_embds\": false,\n",
      "  \"tie_weights_\": true,\n",
      "  \"torch_dtype\": \"float32\",\n",
      "  \"transformers_version\": \"4.10.3\",\n",
      "  \"vocab_size\": 30522\n",
      "}\n",
      "\n",
      "loading weights file https://huggingface.co/bestvater/distilbert-kav-stance/resolve/main/pytorch_model.bin from cache at /home/sbestvater/.cache/huggingface/transformers/b8137fca287cf7838eda9079a4d6e143fe05dd21ebea5ee108636a99cdadaf55.0920183a4792048526334b8b899360c58d2dcd3841c86a57e5eb71d91abc90ea\n",
      "All model checkpoint weights were used when initializing DistilBertForSequenceClassification.\n",
      "\n",
      "All the weights of DistilBertForSequenceClassification were initialized from the model checkpoint at bestvater/distilbert-kav-stance.\n",
      "If your task is similar to the task the model of the checkpoint was trained on, you can already use DistilBertForSequenceClassification for predictions without further training.\n"
     ]
    }
   ],
   "source": [
    "model = AutoModelForSequenceClassification.from_pretrained('bestvater/distilbert-kav-stance', # tell from_pretrained to load from model hub\n",
    "                                                           num_labels = 2) # tell it to add a binary classifier head"
   ]
  },
  {
   "cell_type": "code",
   "execution_count": 30,
   "id": "1cd43f0a",
   "metadata": {},
   "outputs": [
    {
     "data": {
      "text/plain": [
       "tensor([[0.9226, 0.0774],\n",
       "        [0.0476, 0.9524]], grad_fn=<SoftmaxBackward>)"
      ]
     },
     "execution_count": 30,
     "metadata": {},
     "output_type": "execute_result"
    }
   ],
   "source": [
    "outputs = model(**new_input)\n",
    "\n",
    "predictions = torch.nn.functional.softmax(outputs.logits, dim=-1) #convert logits to probabilities\n",
    "\n",
    "predictions"
   ]
  },
  {
   "cell_type": "markdown",
   "id": "069f12a7",
   "metadata": {},
   "source": [
    "Nice. Now we have a custom classifier that can identify the stance of tweets about the Kavanaugh hearings."
   ]
  },
  {
   "cell_type": "markdown",
   "id": "9685bcd4",
   "metadata": {},
   "source": [
    "### 4.3 Even less abstraction: Transformers as PyTorch or TensorFlow model objects\n",
    "If we really want the ability to tweak anything at all, models on the Transformers hub are all just PyTorch objects (many are also availabile in TensorFlow). If we want to, we can just load the pretrained models and work with them directly in those frameworks, ignoring the huggingface APIs altogether. \n",
    "\n",
    "As a really quick proof of this, let's load the `summary` function from `torchinfo`. This is a simple function that prints out an architechture summary of any PyTorch model. We can apply this to our trained DistilBERT model:"
   ]
  },
  {
   "cell_type": "code",
   "execution_count": 31,
   "id": "3f5782ac",
   "metadata": {},
   "outputs": [
    {
     "data": {
      "text/plain": [
       "================================================================================\n",
       "Layer (type:depth-idx)                                  Param #\n",
       "================================================================================\n",
       "DistilBertForSequenceClassification                     --\n",
       "├─DistilBertModel: 1-1                                  --\n",
       "│    └─Embeddings: 2-1                                  --\n",
       "│    │    └─Embedding: 3-1                              23,440,896\n",
       "│    │    └─Embedding: 3-2                              393,216\n",
       "│    │    └─LayerNorm: 3-3                              1,536\n",
       "│    │    └─Dropout: 3-4                                --\n",
       "│    └─Transformer: 2-2                                 --\n",
       "│    │    └─ModuleList: 3-5                             42,527,232\n",
       "├─Linear: 1-2                                           590,592\n",
       "├─Linear: 1-3                                           1,538\n",
       "├─Dropout: 1-4                                          --\n",
       "================================================================================\n",
       "Total params: 66,955,010\n",
       "Trainable params: 66,955,010\n",
       "Non-trainable params: 0\n",
       "================================================================================"
      ]
     },
     "execution_count": 31,
     "metadata": {},
     "output_type": "execute_result"
    }
   ],
   "source": [
    "from torchinfo import summary\n",
    "\n",
    "summary(model)"
   ]
  },
  {
   "cell_type": "markdown",
   "id": "4c2493f4",
   "metadata": {},
   "source": [
    "I won't go into any more PyTorch detail today, but it's worth knowing that you can work with these models this way if you want to."
   ]
  },
  {
   "cell_type": "markdown",
   "id": "e10ea2df",
   "metadata": {},
   "source": [
    "## 5. A word of warning on algorithmic bias\n",
    "\n",
    "Transformers are cool and useful because they \"learn\" components of the complex interdependencies of natural language. But it's important to remember that they do this by being trained on massive amounts of text produced by humans, who have implicit biases. Large language models often learn the biases present in their training data. \n",
    "\n",
    "Here is an example, using the `fill-mask` pipeline, which is essentially asking the model to play madlibs and fill in a missing word in an input string."
   ]
  },
  {
   "cell_type": "code",
   "execution_count": 32,
   "id": "e5cfb07a",
   "metadata": {},
   "outputs": [
    {
     "name": "stderr",
     "output_type": "stream",
     "text": [
      "loading configuration file https://huggingface.co/bert-base-uncased/resolve/main/config.json from cache at /home/sbestvater/.cache/huggingface/transformers/3c61d016573b14f7f008c02c4e51a366c67ab274726fe2910691e2a761acf43e.37395cee442ab11005bcd270f3c34464dc1704b715b5d7d52b1a461abe3b9e4e\n",
      "Model config BertConfig {\n",
      "  \"architectures\": [\n",
      "    \"BertForMaskedLM\"\n",
      "  ],\n",
      "  \"attention_probs_dropout_prob\": 0.1,\n",
      "  \"classifier_dropout\": null,\n",
      "  \"gradient_checkpointing\": false,\n",
      "  \"hidden_act\": \"gelu\",\n",
      "  \"hidden_dropout_prob\": 0.1,\n",
      "  \"hidden_size\": 768,\n",
      "  \"initializer_range\": 0.02,\n",
      "  \"intermediate_size\": 3072,\n",
      "  \"layer_norm_eps\": 1e-12,\n",
      "  \"max_position_embeddings\": 512,\n",
      "  \"model_type\": \"bert\",\n",
      "  \"num_attention_heads\": 12,\n",
      "  \"num_hidden_layers\": 12,\n",
      "  \"pad_token_id\": 0,\n",
      "  \"position_embedding_type\": \"absolute\",\n",
      "  \"transformers_version\": \"4.10.3\",\n",
      "  \"type_vocab_size\": 2,\n",
      "  \"use_cache\": true,\n",
      "  \"vocab_size\": 30522\n",
      "}\n",
      "\n",
      "loading configuration file https://huggingface.co/bert-base-uncased/resolve/main/config.json from cache at /home/sbestvater/.cache/huggingface/transformers/3c61d016573b14f7f008c02c4e51a366c67ab274726fe2910691e2a761acf43e.37395cee442ab11005bcd270f3c34464dc1704b715b5d7d52b1a461abe3b9e4e\n",
      "Model config BertConfig {\n",
      "  \"architectures\": [\n",
      "    \"BertForMaskedLM\"\n",
      "  ],\n",
      "  \"attention_probs_dropout_prob\": 0.1,\n",
      "  \"classifier_dropout\": null,\n",
      "  \"gradient_checkpointing\": false,\n",
      "  \"hidden_act\": \"gelu\",\n",
      "  \"hidden_dropout_prob\": 0.1,\n",
      "  \"hidden_size\": 768,\n",
      "  \"initializer_range\": 0.02,\n",
      "  \"intermediate_size\": 3072,\n",
      "  \"layer_norm_eps\": 1e-12,\n",
      "  \"max_position_embeddings\": 512,\n",
      "  \"model_type\": \"bert\",\n",
      "  \"num_attention_heads\": 12,\n",
      "  \"num_hidden_layers\": 12,\n",
      "  \"pad_token_id\": 0,\n",
      "  \"position_embedding_type\": \"absolute\",\n",
      "  \"transformers_version\": \"4.10.3\",\n",
      "  \"type_vocab_size\": 2,\n",
      "  \"use_cache\": true,\n",
      "  \"vocab_size\": 30522\n",
      "}\n",
      "\n",
      "loading weights file https://huggingface.co/bert-base-uncased/resolve/main/pytorch_model.bin from cache at /home/sbestvater/.cache/huggingface/transformers/a8041bf617d7f94ea26d15e218abd04afc2004805632abc0ed2066aa16d50d04.faf6ea826ae9c5867d12b22257f9877e6b8367890837bd60f7c54a29633f7f2f\n",
      "Some weights of the model checkpoint at bert-base-uncased were not used when initializing BertForMaskedLM: ['cls.seq_relationship.bias', 'cls.seq_relationship.weight']\n",
      "- This IS expected if you are initializing BertForMaskedLM from the checkpoint of a model trained on another task or with another architecture (e.g. initializing a BertForSequenceClassification model from a BertForPreTraining model).\n",
      "- This IS NOT expected if you are initializing BertForMaskedLM from the checkpoint of a model that you expect to be exactly identical (initializing a BertForSequenceClassification model from a BertForSequenceClassification model).\n",
      "All the weights of BertForMaskedLM were initialized from the model checkpoint at bert-base-uncased.\n",
      "If your task is similar to the task the model of the checkpoint was trained on, you can already use BertForMaskedLM for predictions without further training.\n",
      "loading configuration file https://huggingface.co/bert-base-uncased/resolve/main/config.json from cache at /home/sbestvater/.cache/huggingface/transformers/3c61d016573b14f7f008c02c4e51a366c67ab274726fe2910691e2a761acf43e.37395cee442ab11005bcd270f3c34464dc1704b715b5d7d52b1a461abe3b9e4e\n",
      "Model config BertConfig {\n",
      "  \"architectures\": [\n",
      "    \"BertForMaskedLM\"\n",
      "  ],\n",
      "  \"attention_probs_dropout_prob\": 0.1,\n",
      "  \"classifier_dropout\": null,\n",
      "  \"gradient_checkpointing\": false,\n",
      "  \"hidden_act\": \"gelu\",\n",
      "  \"hidden_dropout_prob\": 0.1,\n",
      "  \"hidden_size\": 768,\n",
      "  \"initializer_range\": 0.02,\n",
      "  \"intermediate_size\": 3072,\n",
      "  \"layer_norm_eps\": 1e-12,\n",
      "  \"max_position_embeddings\": 512,\n",
      "  \"model_type\": \"bert\",\n",
      "  \"num_attention_heads\": 12,\n",
      "  \"num_hidden_layers\": 12,\n",
      "  \"pad_token_id\": 0,\n",
      "  \"position_embedding_type\": \"absolute\",\n",
      "  \"transformers_version\": \"4.10.3\",\n",
      "  \"type_vocab_size\": 2,\n",
      "  \"use_cache\": true,\n",
      "  \"vocab_size\": 30522\n",
      "}\n",
      "\n",
      "loading file https://huggingface.co/bert-base-uncased/resolve/main/vocab.txt from cache at /home/sbestvater/.cache/huggingface/transformers/45c3f7a79a80e1cf0a489e5c62b43f173c15db47864303a55d623bb3c96f72a5.d789d64ebfe299b0e416afc4a169632f903f693095b4629a7ea271d5a0cf2c99\n",
      "loading file https://huggingface.co/bert-base-uncased/resolve/main/tokenizer.json from cache at /home/sbestvater/.cache/huggingface/transformers/534479488c54aeaf9c3406f647aa2ec13648c06771ffe269edabebd4c412da1d.7f2721073f19841be16f41b0a70b600ca6b880c8f3df6f3535cbc704371bdfa4\n",
      "loading file https://huggingface.co/bert-base-uncased/resolve/main/added_tokens.json from cache at None\n",
      "loading file https://huggingface.co/bert-base-uncased/resolve/main/special_tokens_map.json from cache at None\n",
      "loading file https://huggingface.co/bert-base-uncased/resolve/main/tokenizer_config.json from cache at /home/sbestvater/.cache/huggingface/transformers/c1d7f0a763fb63861cc08553866f1fc3e5a6f4f07621be277452d26d71303b7e.20430bd8e10ef77a7d2977accefe796051e01bc2fc4aa146bc862997a1a15e79\n",
      "loading configuration file https://huggingface.co/bert-base-uncased/resolve/main/config.json from cache at /home/sbestvater/.cache/huggingface/transformers/3c61d016573b14f7f008c02c4e51a366c67ab274726fe2910691e2a761acf43e.37395cee442ab11005bcd270f3c34464dc1704b715b5d7d52b1a461abe3b9e4e\n",
      "Model config BertConfig {\n",
      "  \"architectures\": [\n",
      "    \"BertForMaskedLM\"\n",
      "  ],\n",
      "  \"attention_probs_dropout_prob\": 0.1,\n",
      "  \"classifier_dropout\": null,\n",
      "  \"gradient_checkpointing\": false,\n",
      "  \"hidden_act\": \"gelu\",\n",
      "  \"hidden_dropout_prob\": 0.1,\n",
      "  \"hidden_size\": 768,\n",
      "  \"initializer_range\": 0.02,\n",
      "  \"intermediate_size\": 3072,\n",
      "  \"layer_norm_eps\": 1e-12,\n",
      "  \"max_position_embeddings\": 512,\n",
      "  \"model_type\": \"bert\",\n",
      "  \"num_attention_heads\": 12,\n",
      "  \"num_hidden_layers\": 12,\n",
      "  \"pad_token_id\": 0,\n",
      "  \"position_embedding_type\": \"absolute\",\n",
      "  \"transformers_version\": \"4.10.3\",\n",
      "  \"type_vocab_size\": 2,\n",
      "  \"use_cache\": true,\n",
      "  \"vocab_size\": 30522\n",
      "}\n",
      "\n"
     ]
    }
   ],
   "source": [
    "fill_blank = pipeline(\"fill-mask\", model = 'bert-base-uncased')"
   ]
  },
  {
   "cell_type": "code",
   "execution_count": 33,
   "id": "9b682dd3",
   "metadata": {},
   "outputs": [
    {
     "name": "stdout",
     "output_type": "stream",
     "text": [
      "['carpenter', 'lawyer', 'farmer', 'businessman', 'doctor']\n"
     ]
    }
   ],
   "source": [
    "result = fill_blank(\"This man works as a [MASK].\")\n",
    "print([r[\"token_str\"] for r in result])"
   ]
  },
  {
   "cell_type": "code",
   "execution_count": 34,
   "id": "36480c57",
   "metadata": {},
   "outputs": [
    {
     "name": "stdout",
     "output_type": "stream",
     "text": [
      "['nurse', 'maid', 'teacher', 'waitress', 'prostitute']\n"
     ]
    }
   ],
   "source": [
    "result = fill_blank(\"This woman works as a [MASK].\")\n",
    "print([r[\"token_str\"] for r in result])"
   ]
  },
  {
   "cell_type": "markdown",
   "id": "e80e9d5a",
   "metadata": {},
   "source": [
    "Wow. That is *obnoxiously* sexist.\n",
    "\n",
    "For this example we used the `bert-base-uncased` model, which is trained on the English Wikipedia and BookCorpus datasets. The BookCorpus in particular includes a lot of older texts, so that might be the source for some of this bias, but some other large language models are trained on more contemporary texts scraped from all over the internet, which can produce other, potentially worse issues."
   ]
  },
  {
   "cell_type": "code",
   "execution_count": null,
   "id": "0b7a5df3",
   "metadata": {},
   "outputs": [],
   "source": []
  }
 ],
 "metadata": {
  "interpreter": {
   "hash": "6ec33fce8c483812ee5254abc84a6e67b4b6dacc5c0e577f7495508cd19c1fb4"
  },
  "kernelspec": {
   "display_name": "Python 3 (ipykernel)",
   "language": "python",
   "name": "python3"
  },
  "language_info": {
   "codemirror_mode": {
    "name": "ipython",
    "version": 3
   },
   "file_extension": ".py",
   "mimetype": "text/x-python",
   "name": "python",
   "nbconvert_exporter": "python",
   "pygments_lexer": "ipython3",
   "version": "3.9.6"
  }
 },
 "nbformat": 4,
 "nbformat_minor": 5
}
